{
 "cells": [
  {
   "cell_type": "code",
   "execution_count": null,
   "id": "b4ac780b",
   "metadata": {},
   "outputs": [],
   "source": [
    "#Bibliotheken importieren\n",
    "import numpy as np\n",
    "import matplotlib.pyplot as plt"
   ]
  },
  {
   "cell_type": "code",
   "execution_count": null,
   "id": "d234e5ad",
   "metadata": {},
   "outputs": [],
   "source": [
    "x_min, x_max, y_min, y_max = -4, 4.5, -5, 7.5 #Feldbreite definieren"
   ]
  },
  {
   "cell_type": "code",
   "execution_count": null,
   "id": "95deddd7",
   "metadata": {
    "scrolled": true
   },
   "outputs": [],
   "source": [
    "fig, ax = plt.subplots(figsize=((x_max-x_min)/3,(y_max-y_min)/3)) #Größe"
   ]
  },
  {
   "cell_type": "code",
   "execution_count": null,
   "id": "1ee80336",
   "metadata": {},
   "outputs": [],
   "source": [
    "ax.set_aspect('equal') #keine Verzerrung\n",
    "display(fig)"
   ]
  },
  {
   "cell_type": "code",
   "execution_count": null,
   "id": "4a46d939",
   "metadata": {},
   "outputs": [],
   "source": [
    "ax.axis([x_min,x_max,y_min,y_max]) #Achsen werte zuweisen\n",
    "display(fig)"
   ]
  },
  {
   "cell_type": "code",
   "execution_count": null,
   "id": "6a7ca801",
   "metadata": {},
   "outputs": [],
   "source": [
    "x_ticks = np.arange(x_min,x_max,1) #Start X , Ende X, Schrittweite\n",
    "print('x_ticks = ',x_ticks)\n",
    "ax.set_xticks(x_ticks) #Beschriftung setzen\n",
    "y_ticks = np.arange(y_min,y_max,1) #Start Y , Ende Y, Schrittweite\n",
    "print('y_ticks = ',y_ticks)\n",
    "ax.set_yticks(y_ticks) #Beschriftung setzen\n",
    "display(fig)"
   ]
  },
  {
   "cell_type": "code",
   "execution_count": null,
   "id": "be732a67",
   "metadata": {},
   "outputs": [],
   "source": [
    "ax.grid(True) #Gitter anzeigen\n",
    "display(fig)"
   ]
  },
  {
   "cell_type": "code",
   "execution_count": null,
   "id": "15cee3c9",
   "metadata": {},
   "outputs": [],
   "source": [
    "#Für extra Zwischenschritte z.B.\n",
    "ax.set_xticks(np.arange(x_min,x_max,0.5),minor=True) \n",
    "ax.set_yticks(np.arange(y_min,y_max,0.5),minor=True)\n",
    "ax.grid(which='minor', alpha=0.1)\n",
    "ax.grid(which='major', alpha=0.5)\n",
    "display(fig)"
   ]
  },
  {
   "cell_type": "code",
   "execution_count": null,
   "id": "0f2faa64",
   "metadata": {},
   "outputs": [],
   "source": [
    "#Figur erstellen in einem Array\n",
    "x=np.array([-3,0,3,2,-2]) \n",
    "y=np.array([-3,6,-3,0,0])\n",
    "ax.plot(x,y,'-k')\n",
    "\n",
    "display(fig)"
   ]
  },
  {
   "cell_type": "code",
   "execution_count": null,
   "id": "cd33bb31",
   "metadata": {},
   "outputs": [],
   "source": [
    "alpha=20*np.pi/180 #Winkel gegen Uhrzeigersinn(Bogenmaß)\n",
    "R=np.array([[np.cos(alpha),-np.sin(alpha)],[np.sin(alpha),np.cos(alpha)]]) #Matrix(2,2) für drehung wird erstellt \n",
    "\n",
    "#in Matrix verpacken\n",
    "XY=np.array([x,y]) #Matrix(2,6) mit X und Y-Werten wird erstellt\n",
    " \n",
    "#rotieren\n",
    "RXY=R@XY #Matrix R wird mit Matrix XY multipliziert und es entsteht die neue Matrix(2,6) mit den gedrehten Werten\n",
    "\n",
    "#aus der Matrix holen\n",
    "rx=RXY[0,:] #0.Zeile,alle Spalten\n",
    "ry=RXY[1,:] #1.Zeile,alle Spalten\n",
    "\n",
    "ax.plot(rx,ry,'-r') \n",
    "display(fig)"
   ]
  }
 ],
 "metadata": {
  "kernelspec": {
   "display_name": "Python 3 (ipykernel)",
   "language": "python",
   "name": "python3"
  },
  "language_info": {
   "codemirror_mode": {
    "name": "ipython",
    "version": 3
   },
   "file_extension": ".py",
   "mimetype": "text/x-python",
   "name": "python",
   "nbconvert_exporter": "python",
   "pygments_lexer": "ipython3",
   "version": "3.9.7"
  }
 },
 "nbformat": 4,
 "nbformat_minor": 5
}
