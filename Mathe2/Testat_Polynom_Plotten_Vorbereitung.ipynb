{
 "cells": [
  {
   "cell_type": "code",
   "execution_count": null,
   "id": "903f41ef",
   "metadata": {},
   "outputs": [],
   "source": [
    "#Bibliotheken importieren\n",
    "import numpy as np\n",
    "import matplotlib.pyplot as plt"
   ]
  },
  {
   "cell_type": "code",
   "execution_count": null,
   "id": "2e7daa4d",
   "metadata": {},
   "outputs": [],
   "source": [
    "x_min, x_max, y_min, y_max = 0, 6.5, -1, 2.5 #Feldbreite definieren"
   ]
  },
  {
   "cell_type": "code",
   "execution_count": null,
   "id": "e7728fc0",
   "metadata": {},
   "outputs": [],
   "source": [
    "fig, ax = plt.subplots(figsize=((x_max-x_min),(y_max-y_min))) #Größe"
   ]
  },
  {
   "cell_type": "code",
   "execution_count": null,
   "id": "00bb2fd2",
   "metadata": {
    "scrolled": false
   },
   "outputs": [],
   "source": [
    "ax.set_aspect('equal') #keine Verzerrung\n",
    "display(fig)"
   ]
  },
  {
   "cell_type": "code",
   "execution_count": null,
   "id": "67a94dc3",
   "metadata": {},
   "outputs": [],
   "source": [
    "ax.axis([x_min,x_max,y_min,y_max]) #Achsen werte zuweisen\n",
    "display(fig)"
   ]
  },
  {
   "cell_type": "code",
   "execution_count": null,
   "id": "eade2c5c",
   "metadata": {},
   "outputs": [],
   "source": [
    "x_ticks = np.arange(x_min,x_max,1) #Start X , Ende X, Schrittweite\n",
    "print('x_ticks = ',x_ticks)\n",
    "ax.set_xticks(x_ticks) #Beschriftung setzen\n",
    "y_ticks = np.arange(y_min,y_max,1) #Start Y , Ende Y, Schrittweite\n",
    "print('y_ticks = ',y_ticks)\n",
    "ax.set_yticks(y_ticks) #Beschriftung setzen\n",
    "display(fig)"
   ]
  },
  {
   "cell_type": "code",
   "execution_count": null,
   "id": "a3bb755a",
   "metadata": {},
   "outputs": [],
   "source": [
    "ax.grid(True) #Gitter anzeigen\n",
    "ax.set_xticks(np.arange(x_min,x_max,0.5),minor=True) \n",
    "ax.set_yticks(np.arange(y_min,y_max,0.5),minor=True)\n",
    "ax.grid(which='minor', alpha=0.1)\n",
    "ax.grid(which='major', alpha=0.5)\n",
    "display(fig)"
   ]
  },
  {
   "cell_type": "markdown",
   "id": "431af752",
   "metadata": {},
   "source": [
    "Punkte:"
   ]
  },
  {
   "cell_type": "code",
   "execution_count": null,
   "id": "c772437c",
   "metadata": {},
   "outputs": [],
   "source": [
    "x = np.array([1,2,3,4,5])\n",
    "y = np.array([0,0,1,0,0])\n",
    "ax.scatter(x,y,color=\"red\",marker=\"*\") #Punkte hinzufügen\n",
    "display(fig)"
   ]
  },
  {
   "cell_type": "code",
   "execution_count": null,
   "id": "fab63dd4",
   "metadata": {},
   "outputs": [],
   "source": [
    "# 5 Punkte --> Polynom 4. Grades\n",
    "# 6 Punkte --> Polynom 5. Grades\n",
    "trans=np.transpose(np.array([x**0,x,x**2,x**3,x**4])) #Matrix wird erstellt Grad 4\n",
    "z_kof = np.linalg.solve(trans,y) #Koeffizienten werden berechnet"
   ]
  },
  {
   "cell_type": "code",
   "execution_count": null,
   "id": "98224af1",
   "metadata": {},
   "outputs": [],
   "source": [
    "def f(x):\n",
    "   return z_kof[4]*x**4+z_kof[3]*x**3+z_kof[2]*x**2+z_kof[1]*x+z_kof[0] #Funktion wird definiert Grad 4\n",
    "x = np.linspace(0.0,6.5,num=1000) #Bereich der X-Werte\n",
    "y=f(x) #Zuweisen der Funktionswerte an Y\n",
    "ax.plot(x,y,'-b') #Diagramm Plotten\n",
    "display(fig) #Diagramm zeigen"
   ]
  }
 ],
 "metadata": {
  "kernelspec": {
   "display_name": "Python 3 (ipykernel)",
   "language": "python",
   "name": "python3"
  },
  "language_info": {
   "codemirror_mode": {
    "name": "ipython",
    "version": 3
   },
   "file_extension": ".py",
   "mimetype": "text/x-python",
   "name": "python",
   "nbconvert_exporter": "python",
   "pygments_lexer": "ipython3",
   "version": "3.9.7"
  }
 },
 "nbformat": 4,
 "nbformat_minor": 5
}
