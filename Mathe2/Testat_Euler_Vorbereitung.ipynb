{
 "cells": [
  {
   "cell_type": "code",
   "execution_count": null,
   "id": "4474bc78",
   "metadata": {},
   "outputs": [],
   "source": [
    "import numpy as np\n",
    "import matplotlib.pyplot as plt\n",
    "import sympy as sp\n",
    "sp.init_printing() # use best printer"
   ]
  },
  {
   "cell_type": "code",
   "execution_count": null,
   "id": "8b28e862",
   "metadata": {},
   "outputs": [],
   "source": [
    "alpha = 0.1 # Blutdruck\n",
    "#L = 0.5 # Länge des Herzmuskels im Ruhestand\n",
    "x_0 = 0.0\n",
    "xp_0 = 0.25\n",
    "h = 0.01 # Schrittweite\n",
    "t0 = 0.0 # Beginn der Zeitspanne\n",
    "t1 = 100.0 # Ende der Zeitspanne\n",
    "\n",
    "#t = sp.Symbol('t')\n",
    "#x = sp.Function('x')(t)\n",
    "#xp = sp.Derivative('x')\n",
    "#xpp = sp.Derivative('xp')\n",
    "#ode = sp.Eq(-100)"
   ]
  },
  {
   "cell_type": "code",
   "execution_count": null,
   "id": "f393f8e6",
   "metadata": {},
   "outputs": [],
   "source": [
    "#z0 = x\n",
    "#z1 = xp\n",
    "#z1p = xpp\n",
    "#xpp = -100*(xp*x**2-B*xp+x-L)\n",
    "#z1p = -100*(z1*z0**2-B*z1+z0-L)\n",
    "\n",
    "#z0p = z1\n",
    "#z1p = -100*(z1*z0**2-B*z1+z0-L)\n",
    "\n",
    "def f(t,z):\n",
    "    # HIER DGL ÄNDERN\n",
    "    xp = np.array([z[1],-alpha*(z[0]**2-1)*z[1]-z[0]]) \n",
    "    return xp"
   ]
  },
  {
   "cell_type": "code",
   "execution_count": null,
   "id": "55041d11",
   "metadata": {},
   "outputs": [],
   "source": [
    "def Euler(t0,t1,h,z0):\n",
    "    n = int((t1-t0)/h)\n",
    "    t = np.linspace(t0,t1,n+1)\n",
    "    z = np.zeros([len(z0),n+1])\n",
    "    z[:,0] = z0\n",
    "    for k in range(n):\n",
    "        z[:,k+1] = z[:,k]+h*f(t[k],z[:,k])\n",
    "    return t, z"
   ]
  },
  {
   "cell_type": "code",
   "execution_count": null,
   "id": "7cadedff",
   "metadata": {},
   "outputs": [],
   "source": [
    "z0 = np.array([x_0,xp_0])\n",
    "t, z = Euler(t0,t1,h,z0)\n",
    "#        ,ax2           2,\n",
    "fig, (ax1) = plt.subplots(1)\n",
    "ax1.plot(t,z[0,:],'-b')\n",
    "ax1.set(xlabel='$t$', ylabel='$x$') # z_0 für z0 mit 0 tiefgestellt\n",
    "#ax2.plot(t,z[1,:],'.r')\n",
    "#ax2.set(xlabel='$t$', ylabel='$z_1$')"
   ]
  },
  {
   "cell_type": "code",
   "execution_count": null,
   "id": "cbdd44e5",
   "metadata": {
    "scrolled": true
   },
   "outputs": [],
   "source": [
    "fig, ax = plt.subplots()\n",
    "ax.plot(z[0,:],z[1,:],'-b')\n",
    "ax.set(xlabel='$x$', ylabel='$ẋ$')"
   ]
  }
 ],
 "metadata": {
  "kernelspec": {
   "display_name": "Python 3 (ipykernel)",
   "language": "python",
   "name": "python3"
  },
  "language_info": {
   "codemirror_mode": {
    "name": "ipython",
    "version": 3
   },
   "file_extension": ".py",
   "mimetype": "text/x-python",
   "name": "python",
   "nbconvert_exporter": "python",
   "pygments_lexer": "ipython3",
   "version": "3.9.7"
  }
 },
 "nbformat": 4,
 "nbformat_minor": 5
}
