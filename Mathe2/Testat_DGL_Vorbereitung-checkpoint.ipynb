{
 "cells": [
  {
   "cell_type": "markdown",
   "id": "36d3ee16",
   "metadata": {},
   "source": [
    "# DGL"
   ]
  },
  {
   "cell_type": "markdown",
   "id": "3fc19806",
   "metadata": {},
   "source": [
    "### Imports"
   ]
  },
  {
   "cell_type": "code",
   "execution_count": null,
   "id": "3d2f704b",
   "metadata": {},
   "outputs": [],
   "source": [
    "#import numpy as np\n",
    "#import matplotlib.pyplot as plt\n",
    "import sympy as sp"
   ]
  },
  {
   "cell_type": "markdown",
   "id": "58698cc3",
   "metadata": {},
   "source": [
    "### Symbolisch lösen"
   ]
  },
  {
   "cell_type": "markdown",
   "id": "0b103032",
   "metadata": {},
   "source": [
    "### Homogen"
   ]
  },
  {
   "cell_type": "code",
   "execution_count": null,
   "id": "af80c8b7",
   "metadata": {},
   "outputs": [],
   "source": [
    "x_0=0\n",
    "x, t = sp.symbols('x,t')\n",
    "x=x_0\n",
    "x= sp.Function('x')(t)\n",
    "xp = sp.Derivative(x)\n",
    "xpp = sp.Derivative(xp)\n",
    "\n",
    "ode = sp.Eq(sp.cos(t)*xp-sp.sin(t)*x,0)  # DGL homogene Lösung durch 0 am ende\n",
    "sp.dsolve(ode)"
   ]
  },
  {
   "cell_type": "markdown",
   "id": "37cfd06e",
   "metadata": {},
   "source": [
    "### Partikulär"
   ]
  },
  {
   "cell_type": "code",
   "execution_count": null,
   "id": "c4b0f7b8",
   "metadata": {},
   "outputs": [],
   "source": [
    "ode = sp.Eq(sp.cos(t)*xp-sp.sin(t)*x,1)  # DGL partikuläre Lösung durch sp.sin(t)\n",
    "sp.dsolve(ode)"
   ]
  },
  {
   "cell_type": "markdown",
   "id": "739bf4bd",
   "metadata": {},
   "source": [
    "### AWP "
   ]
  },
  {
   "cell_type": "code",
   "execution_count": null,
   "id": "8bc247d1",
   "metadata": {},
   "outputs": [],
   "source": [
    "initconds = {x.subs(t, 0): 1} # für Anfangswerte\n",
    "sol=sp.dsolve(ode,ics=initconds) # Variable für Plot\n",
    "sp.dsolve(ode,ics=initconds) # Print mit C-Werte"
   ]
  },
  {
   "cell_type": "markdown",
   "id": "e9560a5b",
   "metadata": {},
   "source": [
    "### Plot"
   ]
  },
  {
   "cell_type": "code",
   "execution_count": null,
   "id": "4c5b85a8",
   "metadata": {},
   "outputs": [],
   "source": [
    "sp.plot(sol.rhs,(t,0.0,1.5))"
   ]
  }
 ],
 "metadata": {
  "kernelspec": {
   "display_name": "Python 3 (ipykernel)",
   "language": "python",
   "name": "python3"
  },
  "language_info": {
   "codemirror_mode": {
    "name": "ipython",
    "version": 3
   },
   "file_extension": ".py",
   "mimetype": "text/x-python",
   "name": "python",
   "nbconvert_exporter": "python",
   "pygments_lexer": "ipython3",
   "version": "3.9.7"
  }
 },
 "nbformat": 4,
 "nbformat_minor": 5
}
