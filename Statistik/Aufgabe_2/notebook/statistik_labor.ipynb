{
 "cells": [
  {
   "cell_type": "markdown",
   "metadata": {},
   "source": [
    "# Statistik Labor Aufgabe 2"
   ]
  },
  {
   "cell_type": "markdown",
   "metadata": {},
   "source": [
    "# Korrektur:\n",
    "\n",
    "4.Nachkommastelle des Bestimmtheitsgrades von Polynom 6. richtig gestellt durch ersetzen von 'X' mit 'x_scaled'. Prognose für 2020 ist die selbe geblieben, beim abgleichen mit den Ergebnissen aus 'Teilergebniss_35.txt' stimmen alle gegebenen Nachkommastellen überein. Ein Rundungsfehler konnte nicht gefunden werden. Eigentlich findet auch zu keinem Zeitpunkt, außer beim ausgeben eine Rundung, statt. \n",
    "\n",
    "Beim absprechen mit Kommilitonen, deren Abgaben schon als Bestanden markiert wurden, wurden auch keine Fehler gefunden. \n",
    "\n",
    "Mögliche Feedback-Fehlinterpretation:\n",
    "- Fehler liegt tritt nicht in der Berechnung auf sondern bei der Ausgabe (Markdown)\n",
    "\n",
    "Die Ausgabe, als Markdown wurde folgendermaßen geändert:\n",
    "- Bevölkerungszahl als Ganzzahl statt als Dezimalzahl ausgegeben\n",
    "- Letzte Ziffer auf nächst höhere Ganzzahl kaufmännisch aufgerundet.\n",
    "\n",
    "Fehler beim berechnen der exponential Funktion gefunden. Werte werden jetzt gefunden."
   ]
  },
  {
   "cell_type": "markdown",
   "metadata": {},
   "source": [
    "## Importe und Optionen"
   ]
  },
  {
   "cell_type": "code",
   "execution_count": null,
   "metadata": {},
   "outputs": [],
   "source": [
    "import pandas as pd\n",
    "import numpy as np\n",
    "import matplotlib.pyplot as plt\n",
    "from sklearn.linear_model import LinearRegression\n",
    "from sklearn.preprocessing import PolynomialFeatures\n",
    "from sklearn.preprocessing import StandardScaler\n",
    "from scipy.optimize import curve_fit\n",
    "\n",
    "\n",
    "pd.set_option('display.max_rows', None)\n",
    "pd.set_option('display.max_colwidth', 200)"
   ]
  },
  {
   "cell_type": "markdown",
   "metadata": {},
   "source": [
    "## Funktionen"
   ]
  },
  {
   "cell_type": "code",
   "execution_count": null,
   "metadata": {},
   "outputs": [],
   "source": [
    "def readData(file):\n",
    "    df = pd.read_csv(file, sep=\"\\s+\", \n",
    "                    header=None, \n",
    "                    names=[\"jahr\",\"anzahl\"],\n",
    "                    decimal=\",\",\n",
    "                    na_values='.',\n",
    "                    encoding='latin-1')\n",
    "    return df"
   ]
  },
  {
   "cell_type": "markdown",
   "metadata": {},
   "source": [
    "## Code"
   ]
  },
  {
   "cell_type": "markdown",
   "metadata": {},
   "source": [
    "### Daten einlesen"
   ]
  },
  {
   "cell_type": "code",
   "execution_count": null,
   "metadata": {},
   "outputs": [],
   "source": [
    "data = readData('sr_aufg_2_35.txt')\n"
   ]
  },
  {
   "cell_type": "markdown",
   "metadata": {},
   "source": [
    "### Regressionen durchführen"
   ]
  },
  {
   "cell_type": "code",
   "execution_count": null,
   "metadata": {},
   "outputs": [],
   "source": [
    "\n",
    "X = data['jahr'].to_numpy().reshape(-1, 1)\n",
    "x_scaled = StandardScaler().fit_transform(X)\n",
    "linear_regressor = LinearRegression()\n",
    "linear_regressor.fit(X, data['anzahl'])\n",
    "r2 = linear_regressor.score(X, data['anzahl'])\n",
    "\n",
    "# Degree 2\n",
    "deg_2 = PolynomialFeatures(degree=2, include_bias=False).fit_transform(x_scaled)\n",
    "poly_regressor_2 = LinearRegression()\n",
    "poly_regressor_2.fit(deg_2, data['anzahl'])\n",
    "r2_2 = poly_regressor_2.score(deg_2, data['anzahl'])\n",
    "\n",
    "\n",
    "# Degree 3\n",
    "deg_3 = PolynomialFeatures(degree=3, include_bias=False).fit_transform(x_scaled)\n",
    "poly_regressor_3 = LinearRegression()\n",
    "poly_regressor_3.fit(deg_3, data['anzahl'])\n",
    "r2_3 = poly_regressor_3.score(deg_3, data['anzahl'])\n",
    "\n",
    "# Degree 4\n",
    "deg_4 = PolynomialFeatures(degree=4, include_bias=False).fit_transform(x_scaled)\n",
    "poly_regressor_4 = LinearRegression()\n",
    "poly_regressor_4.fit(deg_4, data['anzahl'])\n",
    "r2_4 = poly_regressor_4.score(deg_4, data['anzahl'])\n",
    "\n",
    "# Degree 5\n",
    "deg_5 = PolynomialFeatures(degree=5, include_bias=False).fit_transform(x_scaled)\n",
    "poly_regressor_5 = LinearRegression()\n",
    "poly_regressor_5.fit(deg_5, data['anzahl'])\n",
    "r2_5 = poly_regressor_5.score(deg_5, data['anzahl'])\n",
    "\n",
    "# Degree 6\n",
    "deg_6 = PolynomialFeatures(degree=6, include_bias=False).fit_transform(x_scaled)\n",
    "poly_regressor_6 = LinearRegression()\n",
    "poly_regressor_6.fit(deg_6, data['anzahl'])\n",
    "r2_6 = poly_regressor_6.score(deg_6, data['anzahl'])\n",
    "\n",
    "# exponential\n",
    "def exponential(x, a, b):\n",
    "    return a * np.exp(b * x)\n",
    "val = (data['jahr']-np.mean(data['jahr']))/np.std(data['jahr'])\n",
    "coef_exp, cov_exp = curve_fit(exponential, val, data['anzahl'])\n",
    "r2_exp = exponential(val, *coef_exp)\n",
    "\n",
    "res = data['anzahl'] - r2_exp\n",
    "squared_sum = np.sum(res**2)\n",
    "squared_sum_total = np.sum((data['anzahl']-np.mean(data['anzahl']))**2)\n",
    "R_squared = 1 - squared_sum/squared_sum_total\n",
    "\n",
    "# logarithm\n",
    "def logarithm(x, a, b):\n",
    "    return a * np.log(x) - b\n",
    "val = data['jahr']-np.mean(data['jahr'])/np.std(data['jahr'])\n",
    "coef_log, cov_log = curve_fit(logarithm, val, data['anzahl'])\n",
    "r2_log = logarithm(val, *coef_log)\n",
    "\n",
    "res = data['anzahl'] - r2_log\n",
    "squared_sum_log = np.sum(res**2)\n",
    "squared_sum_total_log = np.sum((data['anzahl']-np.mean(data['anzahl']))**2)\n",
    "R_squared_log = 1 - squared_sum_log/squared_sum_total_log\n",
    "\n"
   ]
  },
  {
   "cell_type": "markdown",
   "metadata": {},
   "source": [
    "### Bevölkerungsentwicklung ausgeben"
   ]
  },
  {
   "cell_type": "code",
   "execution_count": null,
   "metadata": {},
   "outputs": [],
   "source": [
    "# Streudiagramm\n",
    "scatter = data.plot.scatter(x='jahr', y='anzahl', s=80 , color='green')\n",
    "scatter=plt.title(fontdict={'fontsize': 20}, label=\"Bevölkerungsentwicklung\")"
   ]
  },
  {
   "cell_type": "markdown",
   "metadata": {},
   "source": [
    "### Tabelle erstellen"
   ]
  },
  {
   "cell_type": "code",
   "execution_count": null,
   "metadata": {},
   "outputs": [],
   "source": [
    "# Create Table Strings\n",
    "linear = {\n",
    "    0: '$a_1$ = %.2f, $a_0$ = %.2f' % (linear_regressor.coef_, linear_regressor.intercept_),\n",
    "    1: r2\n",
    "}\n",
    "poly_2 = {\n",
    "    0: '$a_2$ = %.2f, $a_1$ = %.2f, $a_0$ = %.2f' % (poly_regressor_2.coef_[1], \n",
    "                                                    poly_regressor_2.coef_[0], \n",
    "                                                    poly_regressor_2.intercept_),\n",
    "    1: r2_2\n",
    "}\n",
    "poly_3 = {\n",
    "    0: '$a_3$ = %.2f, $a_2$ = %.2f, $a_1$ = %.2f, $a_0$ = %.2f' % (poly_regressor_3.coef_[2],\n",
    "                                                                    poly_regressor_3.coef_[1],\n",
    "                                                                    poly_regressor_3.coef_[0],\n",
    "                                                                    poly_regressor_3.intercept_),\n",
    "    1: r2_3\n",
    "}\n",
    "poly_4 = {\n",
    "    0: '$a_4$ = %.2f, $a_3$ = %.2f, $a_2$ = %.2f, $a_1$ = %.2f, $a_0$ = %.2f' % (poly_regressor_4.coef_[3],\n",
    "                                                                                    poly_regressor_4.coef_[2],\n",
    "                                                                                    poly_regressor_4.coef_[1],\n",
    "                                                                                    poly_regressor_4.coef_[0],\n",
    "                                                                                    poly_regressor_4.intercept_),\n",
    "    1: r2_4\n",
    "}\n",
    "poly_5 = {\n",
    "    0: '$a_5$ = %.2f, $a_4$ = %.2f, $a_3$ = %.2f, $a_2$ = %.2f, $a_1$ = %.2f, $a_0$ = %.2f' \n",
    "    % (poly_regressor_5.coef_[4],\n",
    "         poly_regressor_5.coef_[3],\n",
    "            poly_regressor_5.coef_[2],\n",
    "            poly_regressor_5.coef_[1],\n",
    "            poly_regressor_5.coef_[0],\n",
    "            poly_regressor_5.intercept_),\n",
    "    1: r2_5\n",
    "}\n",
    "poly_6 = {\n",
    "    0: '$a_6$ = %.2f, $a_5$ = %.2f, $a_4$ = %.2f, $a_3$ = %.2f, $a_2$ = %.2f, $a_1$ = %.2f, $a_0$ = %.2f'\n",
    "    % (poly_regressor_6.coef_[5],\n",
    "            poly_regressor_6.coef_[4],\n",
    "            poly_regressor_6.coef_[3],\n",
    "            poly_regressor_6.coef_[2],\n",
    "            poly_regressor_6.coef_[1],\n",
    "            poly_regressor_6.coef_[0],\n",
    "            poly_regressor_6.intercept_),\n",
    "    1: r2_6\n",
    "}\n",
    "exp = {\n",
    "    0: '$a$ = %.2f, $b$ = %.2f' % (coef_exp[0], coef_exp[1]),\n",
    "    1: R_squared\n",
    "}\n",
    "ln = {\n",
    "    0: '$a$ = %.2f, $b$ = %.2f' % (coef_log[0], coef_log[1]),\n",
    "    1: R_squared_log\n",
    "}\n",
    "\n",
    "dat = [\n",
    "    linear.values(),\n",
    "    poly_2.values(),\n",
    "    poly_3.values(),\n",
    "    poly_4.values(),\n",
    "    poly_5.values(),\n",
    "    poly_6.values(),\n",
    "    exp.values(),\n",
    "    ln.values()\n",
    "]\n",
    "dataf = pd.DataFrame(dat,\n",
    "        columns=['Koefizienten', 'Bestimmtheitsmaß'],\n",
    "        index=['Linear', 'Polynom 2', 'Polynom 3', \n",
    "                'Polynom 4', 'Polynom 5', 'Polynom 6', \n",
    "                'Exponentialfunktion', 'Logarithmusfunktion'])"
   ]
  },
  {
   "cell_type": "markdown",
   "metadata": {},
   "source": [
    "### Tabelle ausgeben"
   ]
  },
  {
   "cell_type": "code",
   "execution_count": null,
   "metadata": {},
   "outputs": [],
   "source": [
    "print(dataf)"
   ]
  },
  {
   "cell_type": "markdown",
   "metadata": {},
   "source": [
    "### Regressionskurve zeichnen"
   ]
  },
  {
   "cell_type": "markdown",
   "metadata": {},
   "source": [
    "#### Wahl der passenden Kurve"
   ]
  },
  {
   "cell_type": "markdown",
   "metadata": {},
   "source": [
    "Ich habe mich für das Polynom mit dem Grad 2 entschieden, da alle Bestimmtheitsmaße, bis auf die der Logarithmusfunktion und der linearen Kurve, ungefähr gleich sind und das Polynom mit dem Grad zwei die geringste Anzahl an Koeffizienten hat. \n",
    "Außerdem stimmt die Prognose, der Quadratischen funktion, mit den Testergegnissen überein."
   ]
  },
  {
   "cell_type": "code",
   "execution_count": null,
   "metadata": {},
   "outputs": [],
   "source": [
    "deg_2_pred = poly_regressor_2.predict(deg_2)\n",
    "plt.scatter(data['jahr'], data['anzahl'], color='blue')\n",
    "plt.plot(X, deg_2_pred, color='red')\n",
    "plt.show()\n",
    "\n"
   ]
  },
  {
   "cell_type": "markdown",
   "metadata": {},
   "source": [
    "### Prognose durchführen"
   ]
  },
  {
   "cell_type": "code",
   "execution_count": null,
   "metadata": {},
   "outputs": [],
   "source": [
    "def calculate_2020_poly_2(x, a0, a1, a2):\n",
    "    return a0 + a1 * x + a2 * x**2\n",
    "\n",
    "\n",
    "# polynomial 2\n",
    "poly_2_2020 = calculate_2020_poly_2((2020-np.mean(data['jahr']))/np.std(data['jahr']), poly_regressor_2.intercept_, *poly_regressor_2.coef_)\n",
    "print(poly_2_2020)\n"
   ]
  },
  {
   "cell_type": "markdown",
   "metadata": {},
   "source": [
    "Die geschätzte Einwohnerzahl im Jahr 2020 beträgt 334.858.951 Menschen."
   ]
  },
  {
   "cell_type": "markdown",
   "metadata": {},
   "source": [
    "Ich habe die geschätzten koeffizienten(`a,b`) und die Verschiebung auf der y-Achse(`c`) in ein Polynom 2. Grades \n",
    "$$\n",
    "y(x)=ax^2+bx+c\n",
    "$$\n",
    "Wobei $x:=\"Jahr\"$ und $y(x):=\"Einwohneranzahl\"$\n",
    "eingesetzt. Mit $x=2020$ ist $y(2020)$ die geschätzte Einwohnerzahl im Jahr 2020."
   ]
  }
 ],
 "metadata": {
  "interpreter": {
   "hash": "8fe68ed14b3b7e2569c1934f8c5232fdd7712241e91095add6f8a2d0f940785c"
  },
  "kernelspec": {
   "display_name": "Python 3 (ipykernel)",
   "language": "python",
   "name": "python3"
  },
  "language_info": {
   "codemirror_mode": {
    "name": "ipython",
    "version": 3
   },
   "file_extension": ".py",
   "mimetype": "text/x-python",
   "name": "python",
   "nbconvert_exporter": "python",
   "pygments_lexer": "ipython3",
   "version": "3.9.7"
  }
 },
 "nbformat": 4,
 "nbformat_minor": 2
}
