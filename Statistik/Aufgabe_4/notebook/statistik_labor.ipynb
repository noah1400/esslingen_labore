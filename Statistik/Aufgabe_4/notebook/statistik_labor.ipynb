{
 "cells": [
  {
   "cell_type": "code",
   "execution_count": null,
   "metadata": {},
   "outputs": [],
   "source": [
    "import pandas as pd\n",
    "import numpy as np\n",
    "from scipy.stats import kde, norm\n",
    "import matplotlib.pyplot as plt\n",
    "import statistics as st"
   ]
  },
  {
   "cell_type": "code",
   "execution_count": null,
   "metadata": {},
   "outputs": [],
   "source": [
    "# 1. Daten laden\n",
    "\n",
    "df1 = pd.read_csv('../sr_aufg_4_35_MR1.txt', sep=' ', decimal=',', header=None)\n",
    "df2 = pd.read_csv('../sr_aufg_4_35_MR2.txt', sep=' ', decimal=',', header=None)\n",
    "df3 = pd.read_csv('../sr_aufg_4_35_MR3.txt', sep=' ', decimal=',', header=None)\n",
    "\n",
    "pd.set_option('display.max_columns', None)\n",
    "\n",
    "# Get ammount of groups\n",
    "def groups(df):\n",
    "    return int(np.sqrt(len(df)))\n",
    "\n",
    "#b)\n",
    "#MR1\n",
    "mean1 = df1.mean()\n",
    "var1 = df1.var()\n",
    "std1 = df1.std()\n",
    "median1 = df1.median()\n",
    "spn1 = df1.max() - df1.min()\n",
    "\n",
    "#MR2\n",
    "mean2 = df2.mean()\n",
    "var2 = df2.var()\n",
    "std2 = df2.std()\n",
    "median2 = df2.median()\n",
    "spn2 = df2.max() - df2.min()\n",
    "\n",
    "#MR3\n",
    "mean3 = df3.mean()\n",
    "var3 = df3.var()\n",
    "std3 = df3.std()\n",
    "median3 = df3.median()\n",
    "spn3 = df3.max() - df3.min()\n",
    "\n",
    "table_data = [['Mittelwert', mean1.values[0], mean2.values[0], mean3.values[0]],['Varianz', var1.values[0], var2.values[0], var3.values[0]],['Standardabweichung', std1.values[0], std2.values[0], std3.values[0]],['Median', median1.values[0], median2.values[0], median3.values[0]],['Spannweite', spn1.values[0], spn2.values[0], spn3.values[0]]]\n",
    "table = pd.DataFrame(table_data, columns=['', 'MR1', 'MR2', 'MR3'])\n",
    "table = table.round(4)\n",
    "\n",
    "table\n",
    "\n"
   ]
  },
  {
   "cell_type": "code",
   "execution_count": null,
   "metadata": {},
   "outputs": [],
   "source": [
    "# c)\n",
    "# plot histogramm\n",
    "plt.hist(df1, bins=groups(df1), label='MR1')\n",
    "plt.title('Histogramm MR1')\n",
    "plt.show()\n",
    "plt.hist(df2, bins=groups(df2), label='MR2')\n",
    "plt.title('Histogramm MR2')\n",
    "plt.show()\n",
    "plt.title('Histogramm MR3')\n",
    "plt.hist(df3, bins=groups(df3), label='MR3')\n",
    "plt.show()"
   ]
  },
  {
   "cell_type": "markdown",
   "metadata": {},
   "source": [
    "c)\n",
    "Für jedes Histogramm habe ich eine unterschiedliche Anzahl gewählt. Die Anzahl habe ich so gewählt, dass im Histogramm keine Lücken entstehen. Zum erstellen des Histogramms habe ich die Python funktion `hist()` der Bibliothek `matplotlib.pyplot` benutzt."
   ]
  },
  {
   "cell_type": "markdown",
   "metadata": {},
   "source": [
    "e) Die Messreihe 1 ist Normalverteilt, da das Histogramm stark einer Gauß-Glocke oder auch Glockenkurve ähnelt. "
   ]
  },
  {
   "cell_type": "code",
   "execution_count": null,
   "metadata": {},
   "outputs": [],
   "source": [
    "\n",
    "# e)\n",
    "axis = np.arange(df1[0].min(),df1[0].max(),0.01)\n",
    "nv = norm.pdf(axis, mean1, std1)\n",
    "\n",
    "plt.hist(df1, bins=groups(df1), label='MR1', color='red')\n",
    "plt.plot(axis, nv*100)\n",
    "\n",
    "plt.show()\n"
   ]
  },
  {
   "cell_type": "code",
   "execution_count": null,
   "metadata": {},
   "outputs": [],
   "source": [
    "sigma = std1[0]\n",
    "mu = mean1[0]\n",
    "print(sigma, mu)"
   ]
  },
  {
   "cell_type": "markdown",
   "metadata": {},
   "source": [
    "f.1 Die im Histogramm dargestellten Anzahlen unterscheiden sich um einen Faktor von 100 von den Funktionswerten der Normalverteilungsdicht\n",
    "\n",
    "f.2 Die Skalierung der Y-Achse musste nicht geändert werden, statt dessen wurden die Funktionswerte der Dichtefunktion mit einem Faktor von 100 multipliziert. So passte die Skalierung wieder"
   ]
  }
 ],
 "metadata": {
  "kernelspec": {
   "display_name": "Python 3 (ipykernel)",
   "language": "python",
   "name": "python3"
  },
  "language_info": {
   "codemirror_mode": {
    "name": "ipython",
    "version": 3
   },
   "file_extension": ".py",
   "mimetype": "text/x-python",
   "name": "python",
   "nbconvert_exporter": "python",
   "pygments_lexer": "ipython3",
   "version": "3.9.7"
  },
  "vscode": {
   "interpreter": {
    "hash": "a117527e71c9235e8171501342e68793e0723812bc0bf154d3be898b05e3508c"
   }
  }
 },
 "nbformat": 4,
 "nbformat_minor": 2
}
