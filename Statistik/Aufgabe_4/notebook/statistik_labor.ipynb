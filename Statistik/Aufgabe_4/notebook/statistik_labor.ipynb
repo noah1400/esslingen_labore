{
 "cells": [
  {
   "cell_type": "code",
   "execution_count": 209,
   "metadata": {},
   "outputs": [],
   "source": [
    "import pandas as pd\n",
    "import numpy as np\n",
    "from scipy.stats import kde, norm\n",
    "import matplotlib.pyplot as plt\n",
    "import statistics as st"
   ]
  },
  {
   "cell_type": "code",
   "execution_count": 230,
   "metadata": {},
   "outputs": [
    {
     "data": {
      "text/html": [
       "<div>\n",
       "<style scoped>\n",
       "    .dataframe tbody tr th:only-of-type {\n",
       "        vertical-align: middle;\n",
       "    }\n",
       "\n",
       "    .dataframe tbody tr th {\n",
       "        vertical-align: top;\n",
       "    }\n",
       "\n",
       "    .dataframe thead th {\n",
       "        text-align: right;\n",
       "    }\n",
       "</style>\n",
       "<table border=\"1\" class=\"dataframe\">\n",
       "  <thead>\n",
       "    <tr style=\"text-align: right;\">\n",
       "      <th></th>\n",
       "      <th></th>\n",
       "      <th>MR1</th>\n",
       "      <th>MR2</th>\n",
       "      <th>MR3</th>\n",
       "    </tr>\n",
       "  </thead>\n",
       "  <tbody>\n",
       "    <tr>\n",
       "      <th>0</th>\n",
       "      <td>Mittelwert</td>\n",
       "      <td>388.9164</td>\n",
       "      <td>53.6083</td>\n",
       "      <td>7.0063</td>\n",
       "    </tr>\n",
       "    <tr>\n",
       "      <th>1</th>\n",
       "      <td>Varianz</td>\n",
       "      <td>3.8441</td>\n",
       "      <td>0.1426</td>\n",
       "      <td>5.4403</td>\n",
       "    </tr>\n",
       "    <tr>\n",
       "      <th>2</th>\n",
       "      <td>Standardabweichung</td>\n",
       "      <td>1.9606</td>\n",
       "      <td>0.3777</td>\n",
       "      <td>2.3324</td>\n",
       "    </tr>\n",
       "    <tr>\n",
       "      <th>3</th>\n",
       "      <td>Median</td>\n",
       "      <td>388.8469</td>\n",
       "      <td>53.7132</td>\n",
       "      <td>6.9713</td>\n",
       "    </tr>\n",
       "    <tr>\n",
       "      <th>4</th>\n",
       "      <td>Spannweite</td>\n",
       "      <td>9.8708</td>\n",
       "      <td>1.9879</td>\n",
       "      <td>5.9050</td>\n",
       "    </tr>\n",
       "  </tbody>\n",
       "</table>\n",
       "</div>"
      ],
      "text/plain": [
       "                            MR1      MR2     MR3\n",
       "0          Mittelwert  388.9164  53.6083  7.0063\n",
       "1             Varianz    3.8441   0.1426  5.4403\n",
       "2  Standardabweichung    1.9606   0.3777  2.3324\n",
       "3              Median  388.8469  53.7132  6.9713\n",
       "4          Spannweite    9.8708   1.9879  5.9050"
      ]
     },
     "execution_count": 230,
     "metadata": {},
     "output_type": "execute_result"
    }
   ],
   "source": [
    "# 1. Daten laden\n",
    "\n",
    "df1 = pd.read_csv('../sr_aufg_4_35_MR1.txt', sep=' ', decimal=',', header=None)\n",
    "df2 = pd.read_csv('../sr_aufg_4_35_MR2.txt', sep=' ', decimal=',', header=None)\n",
    "df3 = pd.read_csv('../sr_aufg_4_35_MR3.txt', sep=' ', decimal=',', header=None)\n",
    "\n",
    "pd.set_option('display.max_columns', None)\n",
    "\n",
    "# Get ammount of groups\n",
    "def groups(df):\n",
    "    return int(np.sqrt(len(df)))\n",
    "\n",
    "#b)\n",
    "#MR1\n",
    "mean1 = df1.mean()\n",
    "var1 = df1.var()\n",
    "std1 = df1.std()\n",
    "median1 = df1.median()\n",
    "spn1 = df1.max() - df1.min()\n",
    "\n",
    "#MR2\n",
    "mean2 = df2.mean()\n",
    "var2 = df2.var()\n",
    "std2 = df2.std()\n",
    "median2 = df2.median()\n",
    "spn2 = df2.max() - df2.min()\n",
    "\n",
    "#MR3\n",
    "mean3 = df3.mean()\n",
    "var3 = df3.var()\n",
    "std3 = df3.std()\n",
    "median3 = df3.median()\n",
    "spn3 = df3.max() - df3.min()\n",
    "\n",
    "table_data = [['Mittelwert', mean1.values[0], mean2.values[0], mean3.values[0]],['Varianz', var1.values[0], var2.values[0], var3.values[0]],['Standardabweichung', std1.values[0], std2.values[0], std3.values[0]],['Median', median1.values[0], median2.values[0], median3.values[0]],['Spannweite', spn1.values[0], spn2.values[0], spn3.values[0]]]\n",
    "table = pd.DataFrame(table_data, columns=['', 'MR1', 'MR2', 'MR3'])\n",
    "table = table.round(4)\n",
    "\n",
    "table\n",
    "\n"
   ]
  },
  {
   "cell_type": "code",
   "execution_count": 232,
   "metadata": {},
   "outputs": [
    {
     "data": {
      "image/png": "[encoded data removed]",
      "text/plain": [
       "<Figure size 432x288 with 1 Axes>"
      ]
     },
     "metadata": {
      "needs_background": "light"
     },
     "output_type": "display_data"
    },
    {
     "data": {
      "image/png": "[encoded data removed]",
      "text/plain": [
       "<Figure size 432x288 with 1 Axes>"
      ]
     },
     "metadata": {
      "needs_background": "light"
     },
     "output_type": "display_data"
    },
    {
     "data": {
      "image/png": "[encoded data removed]",
      "text/plain": [
       "<Figure size 432x288 with 1 Axes>"
      ]
     },
     "metadata": {
      "needs_background": "light"
     },
     "output_type": "display_data"
    }
   ],
   "source": [
    "# c)\n",
    "# plot histogramm\n",
    "plt.hist(df1, bins=groups(df1), label='MR1')\n",
    "plt.title('Histogramm MR1')\n",
    "plt.show()\n",
    "plt.hist(df2, bins=groups(df2), label='MR2')\n",
    "plt.title('Histogramm MR2')\n",
    "plt.show()\n",
    "plt.title('Histogramm MR3')\n",
    "plt.hist(df3, bins=groups(df3), label='MR3')\n",
    "plt.show()"
   ]
  },
  {
   "cell_type": "markdown",
   "metadata": {},
   "source": [
    "c)\n",
    "Für jedes Histogramm habe ich eine unterschiedliche Anzahl gewählt. Die Anzahl habe ich so gewählt, dass im Histogramm keine Lücken entstehen. Zum erstellen des Histogramms habe ich die Python funktion `hist()` der Bibliothek `matplotlib.pyplot` benutzt."
   ]
  },
  {
   "cell_type": "markdown",
   "metadata": {},
   "source": [
    "e) Die Messreihe 1 ist Normalverteilt, da das Histogramm stark einer Gauß-Glocke oder auch Glockenkurve ähnelt. "
   ]
  },
  {
   "cell_type": "code",
   "execution_count": 257,
   "metadata": {},
   "outputs": [
    {
     "data": {
      "image/png": "[encoded data removed]",
      "text/plain": [
       "<Figure size 432x288 with 1 Axes>"
      ]
     },
     "metadata": {
      "needs_background": "light"
     },
     "output_type": "display_data"
    }
   ],
   "source": [
    "\n",
    "# e)\n",
    "axis = np.arange(df1[0].min(),df1[0].max(),0.01)\n",
    "nv = norm.pdf(axis, mean1, std1)\n",
    "\n",
    "plt.hist(df1, bins=groups(df1), label='MR1', color='red')\n",
    "plt.plot(axis, nv*100)\n",
    "\n",
    "plt.show()\n"
   ]
  },
  {
   "cell_type": "code",
   "execution_count": 260,
   "metadata": {},
   "outputs": [
    {
     "name": "stdout",
     "output_type": "stream",
     "text": [
      "1.9606376097181832 388.91642499999995\n"
     ]
    }
   ],
   "source": [
    "sigma = std1[0]\n",
    "mu = mean1[0]\n",
    "print(sigma, mu)"
   ]
  },
  {
   "cell_type": "markdown",
   "metadata": {},
   "source": [
    "f.1 Die im Histogramm dargestellten Anzahlen unterscheiden sich um einen Faktor von 100 von den Funktionswerten der Normalverteilungsdicht\n",
    "\n",
    "f.2 Die Skalierung der Y-Achse musste nicht geändert werden, statt dessen wurden die Funktionswerte der Dichtefunktion mit einem Faktor von 100 multipliziert. So passte die Skalierung wieder"
   ]
  }
 ],
 "metadata": {
  "kernelspec": {
   "display_name": "Python 3 (ipykernel)",
   "language": "python",
   "name": "python3"
  },
  "language_info": {
   "codemirror_mode": {
    "name": "ipython",
    "version": 3
   },
   "file_extension": ".py",
   "mimetype": "text/x-python",
   "name": "python",
   "nbconvert_exporter": "python",
   "pygments_lexer": "ipython3",
   "version": "3.9.7"
  },
  "vscode": {
   "interpreter": {
    "hash": "a117527e71c9235e8171501342e68793e0723812bc0bf154d3be898b05e3508c"
   }
  }
 },
 "nbformat": 4,
 "nbformat_minor": 2
}
