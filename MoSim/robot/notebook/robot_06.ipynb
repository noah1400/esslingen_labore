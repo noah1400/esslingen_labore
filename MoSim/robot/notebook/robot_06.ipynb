{
 "cells": [
  {
   "cell_type": "markdown",
   "metadata": {},
   "source": [
    "# Project robot"
   ]
  },
  {
   "cell_type": "markdown",
   "metadata": {},
   "source": [
    "Please fill in the names of the team mebers.\n",
    "\n",
    "<div class=\"alert alert-block alert-danger\">\n",
    "\n",
    "<b>Team:</b>\n",
    "- Moritz ******, 76****\n",
    "- Emir ******, 76****\n",
    "- Alessa ******, 76****\n",
    "- Noah ******, 76****\n",
    "\n",
    "<b>Result:</b>\n",
    "    \n",
    "| Task   |  1  |  2  |  3  |  4  |  5  |  6  |  7  |  8  |  Sum  |\n",
    "|--------|-----|-----|-----|-----|-----|-----|-----|-----|-------|\n",
    "| Points | 2/2 | 2/2 | 3/4 | 1/2 | 2/2 | 4/4 | ?/4 | 0/0 | ??/20 |  \n",
    "    \n",
    "</div>"
   ]
  },
  {
   "cell_type": "markdown",
   "metadata": {},
   "source": [
    "## Packages\n",
    "\n",
    "<div class=\"alert alert-block alert-danger\">\n",
    "    \n",
    "<b>Important: Do not import other packages or libraries!</b>\n",
    "    \n",
    "</div>"
   ]
  },
  {
   "cell_type": "markdown",
   "metadata": {},
   "source": [
    "### Python"
   ]
  },
  {
   "cell_type": "code",
   "execution_count": null,
   "metadata": {},
   "outputs": [],
   "source": [
    "from platform import python_version\n",
    "print('python version = '+ python_version())"
   ]
  },
  {
   "cell_type": "markdown",
   "metadata": {},
   "source": [
    "### Display images and videos"
   ]
  },
  {
   "cell_type": "code",
   "execution_count": null,
   "metadata": {},
   "outputs": [],
   "source": [
    "from IPython.display import HTML, Image, IFrame, YouTubeVideo"
   ]
  },
  {
   "cell_type": "markdown",
   "metadata": {},
   "source": [
    "### NumPy"
   ]
  },
  {
   "cell_type": "code",
   "execution_count": null,
   "metadata": {},
   "outputs": [],
   "source": [
    "import numpy as np\n",
    "print('numpy version = '+ np.__version__)"
   ]
  },
  {
   "cell_type": "markdown",
   "metadata": {},
   "source": [
    "### Matplotlib"
   ]
  },
  {
   "cell_type": "code",
   "execution_count": null,
   "metadata": {},
   "outputs": [],
   "source": [
    "import matplotlib\n",
    "import matplotlib.pyplot as plt\n",
    "from matplotlib.animation import FuncAnimation\n",
    "print('matplotlib version = '+ matplotlib.__version__)"
   ]
  },
  {
   "cell_type": "markdown",
   "metadata": {},
   "source": [
    "### Google Colab\n",
    "If you are using Google Colab mount drive and change directory."
   ]
  },
  {
   "cell_type": "code",
   "execution_count": null,
   "metadata": {},
   "outputs": [],
   "source": [
    "if 'google.colab' in str(get_ipython()):\n",
    "    print('Running on Google Colab')\n",
    "    from google.colab import drive\n",
    "    drive.mount('/content/gdrive')\n",
    "    %cd '/content/gdrive/MyDrive/Colab Notebooks/Modelling and Simulation/robot'\n",
    "else:\n",
    "    print('Not running on Google Colab')"
   ]
  },
  {
   "cell_type": "markdown",
   "metadata": {},
   "source": [
    "## 1 Modelling\n",
    "Robots have been used in industrial manufacturing processes for almost 50 years in different areas of application.\n",
    "An industrial robot is a machine for processing or assembling workpieces that is controlled by computer programs.\n",
    "Industrial robots are distinguished by the structure of the robot arms, the so-called kinematics.\n",
    "Robotic arms consist of rigid links that are connected to each other by swivel joints or sliding joints.\n",
    "The most common robotic arms are 6-axis robots.\n",
    "They are comparable to the human arm and therefore offer many application possibilities.\n",
    "Robots have established themselves as an important part of production, particularly in the automotive industry."
   ]
  },
  {
   "cell_type": "code",
   "execution_count": null,
   "metadata": {},
   "outputs": [],
   "source": [
    "YouTubeVideo('rbki4HR41-4')"
   ]
  },
  {
   "cell_type": "markdown",
   "metadata": {},
   "source": [
    "In this project we consider a very simplified model, in which the robot consists of two arms that move in one plane.\n",
    "Swivel joints allow the rotation of the arms.\n",
    "The arms have a fixed length.\n",
    "At the end of the second arm, an object hangs vertically downwards, attached to a freely suspended rope."
   ]
  },
  {
   "cell_type": "code",
   "execution_count": null,
   "metadata": {},
   "outputs": [],
   "source": [
    "Image('robot_figure1.jpg', width=300, height=150)"
   ]
  },
  {
   "cell_type": "markdown",
   "metadata": {},
   "source": [
    "By appropriately controlling the two angles on the swivel joints, the gripper can be used to move the object over an obstacle.\n",
    "The goal is to simulate and visualize different motion sequences for lifting an object over an obstacle."
   ]
  },
  {
   "cell_type": "markdown",
   "metadata": {},
   "source": [
    "## 2 Numerical treatment\n",
    "In order to describe the model with mathematical formulas, we need a detailed technical drawing."
   ]
  },
  {
   "cell_type": "markdown",
   "metadata": {},
   "source": [
    "### 2.1 Technical drawing\n",
    "We do not need a 3D sketch, a 2D sketch is sufficient.\n",
    "At point $O$ the robot is fixed at the baseline.\n",
    "The origin of the coordinate system will be placed at this point\n",
    "with the $x$-axis pointing to the right and the $y$-axis pointing up.\n",
    "We consider an obstacle in the form of a rectangle with height $h$ and width $w$.\n",
    "The distance between the obstacle and the origin is denoted by $d$.\n",
    "The object to be transported over the obstacle is described by a circle with midpoint $M$ and radius $r$.\n",
    "The positions of the points $P$, $Q$, $R$, $M$ and $T$ depend on the angles $\\alpha$ and $\\beta$.\n",
    "$T$ is the point of the object closest to the baseline."
   ]
  },
  {
   "cell_type": "code",
   "execution_count": null,
   "metadata": {},
   "outputs": [],
   "source": [
    "Image('robot_figure2.jpg', width=600, height=300)"
   ]
  },
  {
   "cell_type": "markdown",
   "metadata": {},
   "source": [
    "### 2.2 Direct kinematics\n",
    "The positions of the points $P$, $Q$, $R$, $M$ and $T$ is clearly defined by the two joint angles.\n",
    "This type of control by the angles $\\alpha$ and $\\beta$ is called direct kinematics.\n",
    "Our objective is to derive formulars for the positions of the points $P$, $Q$, $R$, $M$ and $T$ as a function of $\\alpha$ and $\\beta$.\n",
    "The parameters $l_1$, $l_2$, $l_3$ and $r$ are also included in these formulas.\n",
    "\n",
    "The position of point $P$ with respect to the position of point $O$ can be calculated using the length $l_1$ and the angle $\\alpha$:\n",
    "\n",
    "$$\n",
    "P = O +\n",
    "l_1 \\, \n",
    "\\left(\n",
    "\\begin{array}{c}\n",
    "\\cos{(\\alpha)} \\\\\n",
    "\\sin{(\\alpha)} \\\\\n",
    "\\end{array}\n",
    "\\right)\n",
    "$$\n",
    "\n",
    "In order to calculate the position of point $Q$ we use the angle $\\gamma$ as shown in the figure above:\n",
    "\n",
    "$$\n",
    "\\alpha + \\beta - \\gamma = \\pi\n",
    "\\quad \\Longrightarrow \\quad\n",
    "\\gamma = \\alpha + \\beta - \\pi\n",
    "$$\n",
    "\n",
    "The position of point $Q$ with respect to the position of point $Q$ can be calculated using the length $l_2$ and the angle $\\gamma$:\n",
    "\n",
    "$$\n",
    "Q\n",
    "= P\n",
    "+ l_2 \\, \n",
    "\\left(\n",
    "\\begin{array}{c}\n",
    "\\cos{(\\gamma)}\\\\\n",
    "\\sin{(\\gamma)}\\\\\n",
    "\\end{array}\n",
    "\\right)\n",
    "$$\n",
    "\n",
    "By a straightforward calculation we get the positions of the points $R$, $M$ and $T$:  \n",
    "\n",
    "$$\n",
    "R = Q\n",
    "+ l_3 \\, \n",
    "\\left(\n",
    "\\begin{array}{r}\n",
    " 0\\\\\n",
    "-1\\\\\n",
    "\\end{array}\n",
    "\\right),\n",
    "\\quad\n",
    "M = R\n",
    "+ r \\, \n",
    "\\left(\n",
    "\\begin{array}{r}\n",
    " 0\\\\\n",
    "-1\\\\\n",
    "\\end{array}\n",
    "\\right),\n",
    "\\quad\n",
    "T = M\n",
    "+ r \\, \n",
    "\\left(\n",
    "\\begin{array}{r}\n",
    " 0\\\\\n",
    "-1\\\\\n",
    "\\end{array}\n",
    "\\right)\n",
    "$$"
   ]
  },
  {
   "cell_type": "markdown",
   "metadata": {},
   "source": [
    "### 2.3 Inverse kinematics\n",
    "Inverse kinematics is exactly the opposite of direct kinematics.\n",
    "This means that the position of the point $T(T_x \\mid T_y)$ is given and the angles $\\alpha$ and $\\beta$ are calculated.\n",
    "If we put together all the formulas of direct kinematics, we get:\n",
    "\n",
    "$$\n",
    "    \\begin{array}{lcl}\n",
    "        T_x & = & l_1 \\, \\cos(\\alpha) - l_2 \\, \\cos(\\alpha + \\beta)\\\\\n",
    "\t\tT_y & = & l_1 \\, \\sin(\\alpha) - l_2 \\, \\sin(\\alpha + \\beta) - l_3 - 2 \\, r\n",
    "\t\\end{array}\n",
    "$$\n",
    "\n",
    "Now we have to solve these equations according to $\\alpha$ and $\\beta$.\n",
    "We could do that through tricky symbolic calculations.\n",
    "But we choose another alternative.\n",
    "We solve the equations using a numerical approximation method.\n",
    "The standard procedure for this purpose is Newton's method for finding roots.\n",
    "To this end, we must reformulate the equations.\n",
    "The problem now is:\n",
    "Find the common roots $\\alpha$ and $\\beta$ for the functions $f_1$ and $f_2$:\n",
    "\n",
    "$$\n",
    "\t\\mathbf{f}(\\alpha,\\beta) = \n",
    "\t\\left(\n",
    "\t\\begin{array}{l}\n",
    "\t\tf_1(\\alpha,\\beta)\\\\\n",
    "\t\tf_2(\\alpha,\\beta)\n",
    "\t\\end{array}\n",
    "\t\\right)\n",
    "\t=\n",
    "\t\\left(\n",
    "\t\\begin{array}{l}\n",
    "\t\tT_x - l_1 \\, \\cos(\\alpha) + l_2 \\, \\cos(\\alpha + \\beta) \\\\\n",
    "\t\tT_y - l_1 \\, \\sin(\\alpha) + l_2 \\, \\sin(\\alpha + \\beta) + l_3 + 2 \\, r\n",
    "\t\\end{array}\n",
    "\t\\right).\n",
    "$$"
   ]
  },
  {
   "cell_type": "markdown",
   "metadata": {},
   "source": [
    "<div class=\"alert alert-block alert-info\">\n",
    "    \n",
    "### Task 1: Formula for Jacobian matrix <font color=red>(2 points)</font>\n",
    "\n",
    "Derive a formula for the Jacobian matrix $\\mathbf{J}$ of the function $\\mathbf{f}$.\n",
    "Calculate numerical values of the Jacobian matrix $\\mathbf{J}$ for\n",
    "$\\alpha = \\frac{\\pi}{3}$ and $\\beta = \\frac{\\pi}{2}$\n",
    "by hand.\n",
    "\n",
    "</div>"
   ]
  },
  {
   "cell_type": "markdown",
   "metadata": {},
   "source": [
    "<div class=\"alert alert-block alert-success\">\n",
    "    \n",
    "<b>Solution of Task 1</b>\n",
    "\n",
    "Formula for Jacobian matrix\n",
    "\n",
    "$$\n",
    "\t\\boldsymbol{J} \\, (\\alpha,\\beta) = \n",
    "\t\\left(\n",
    "\t\t\\begin{array}{ll}\n",
    "\t\t\t\\sin(\\alpha) l_1-\\sin(\\alpha+\\beta) l_2 & l_2 (-\\sin(\\alpha+\\beta)) \\\\\n",
    "\t\t\tl_2 \\cos(\\alpha+\\beta)-l_1 \\cos(\\alpha) & l_2 \\cos(\\alpha+\\beta) \\\\\n",
    "\t\t\\end{array}\n",
    "\t\\right)\n",
    "$$\n",
    "    \n",
    "Numerical values of the Jacobian matrix $J$ for $\\alpha = \\frac{\\pi}{3}$ and $\\beta = \\frac{\\pi}{2}$\n",
    "    \n",
    "$$\n",
    "    \\boldsymbol{J} \\, (1.04719755,1.57079633) \\approx\n",
    "\t\\left(\n",
    "\t\t\\begin{array}{rr}\n",
    "\t\t\t\\frac{\\sqrt{3} l_1}{2}-\\frac{l_2}{2} & -\\frac{l_2}{2} \\\\\n",
    "\t\t\t-\\frac{l_1}{2}-\\frac{\\sqrt{3} l_2}{2} & -\\frac{1}{2}\\sqrt{3}l_2 \\\\\n",
    "\t\t\\end{array}\n",
    "\t\\right)\n",
    "$$\n",
    "    \n",
    "</div>"
   ]
  },
  {
   "cell_type": "markdown",
   "metadata": {},
   "source": [
    "### 2.4 Path planing\n",
    "The movement of the object should take place along a predetermined trajectory for the positions of point $T$.\n",
    "\n",
    "The simplest trajectory consists of a rectangular movement.\n",
    "The object is first lifted vertically from the floor until the height of the obstacle is reached.\n",
    "Then the object is moved horizontally over the obstacle.\n",
    "Finally, the object is placed vertically down on the floor.\n",
    "\n",
    "Other alternatives are trajectory curves in the form of semicircles or parabolas."
   ]
  },
  {
   "cell_type": "markdown",
   "metadata": {},
   "source": [
    "### 2.5 Collision detection\n",
    "One of the most important tasks when simulating robots is to make sure that there are no collisions.\n",
    "Collisions can occur in different forms.\n",
    "The object could collide with the obstacle, with an arm, or with the ground.\n",
    "\n",
    "Functions that intersect straight lines with straight lines or with circles form the mathematical basis of collision checks.\n",
    "\n",
    "We take a closer look at the calculation of the intersection of a straight line with a circle.\n",
    "We represent a straight line with the constants $a$, $b$ and $c$ with the equation\n",
    "\n",
    "$$\n",
    "a \\, x + b \\, y = c\n",
    "$$\n",
    "\n",
    "and a circle with midpoint $M(x_0 \\mid y_0)$ and radius $r$ with the equation\n",
    "\n",
    "$$\n",
    "(x - x_0)^2 + (y - y_0)^2 = r^2\n",
    "$$\n",
    "\n",
    "We use the transformation\n",
    "\n",
    "$$\n",
    "\\tilde{x} = x - x_0, \\quad \\tilde{y} = y - y_0 \n",
    "$$\n",
    "\n",
    "to simplify the equation of the circle to\n",
    "\n",
    "$$\n",
    "\\tilde{x}^2 + \\tilde{y}^2 = r^2\n",
    "$$\n",
    "\n",
    "With this transformation the equation for the straight line is given by\n",
    "\n",
    "$$\n",
    "\ta (\\tilde{x} + x_0) + b (\\tilde{y} + y_0) = c\n",
    "    \\quad \\Longrightarrow \\quad\n",
    "    a \\, \\tilde{x} + b \\, \\tilde{y} = \n",
    "    \\underbrace{c - a \\, x_0 - b \\, y_0}_{\\displaystyle d} \n",
    "$$\n",
    "\n",
    "In order to simplify the notation we use the shortcut\n",
    "\n",
    "$$\n",
    "d = c - a \\, x_0 - b \\, y_0\n",
    "$$\n",
    "\n",
    "In case of $b \\neq 0$ we can solve this equation for $\\tilde{y}$\n",
    "\n",
    "$$\n",
    "\\tilde{y} = \\frac{d - a \\tilde{x}}{b}\n",
    "$$\n",
    "\n",
    "Inserting this in the equation for the circle results in the quadratic equation\n",
    "\n",
    "$$\n",
    "\\tilde{x}^2 + \\left( \\frac{d - a \\tilde{x}}{b}\\right)^2 = r^2\n",
    "$$\n",
    "\n",
    "This can be written as\n",
    "\n",
    "$$\n",
    "\\underbrace{\\left(1 + \\frac{a^2}{b^2} \\right)}_{\\displaystyle A} \\, \\tilde{x}^2 \\, + \\,\n",
    "\\underbrace{\\frac{-2 \\, a \\, d}{b^2}}_{\\displaystyle B} \\, \\tilde{x} \\, + \\, \n",
    "\\underbrace{\\frac{d^2}{b^2} - r^2}_{\\displaystyle C} = 0\n",
    "$$\n",
    "\n",
    "After multiplication with $b^2$ this results in\n",
    "\n",
    "$$\n",
    "\\underbrace{\\left(a^2 + b^2 \\right)}_{\\displaystyle A} \\, \\tilde{x}^2 \\, - \\,\n",
    "\\underbrace{2 \\, a \\, d}_{\\displaystyle -B} \\, \\tilde{x} \\, + \\, \n",
    "\\underbrace{d^2 - r^2 \\, b^2}_{\\displaystyle C} = 0\n",
    "$$\n",
    "\n",
    "With the shortcuts\n",
    "\n",
    "$$\n",
    "A = a^2 + b^2, \\quad\n",
    "B = -2 \\, a \\, d, \\quad \n",
    "C = d^2 - r^2 \\, b^2\n",
    "$$\n",
    "\n",
    "the problem ends up in a quadratic equation for $\\tilde{x}$\n",
    "\n",
    "$$\n",
    "A \\, \\tilde{x}^2 + B \\, \\tilde{x} + C = 0\n",
    "$$\n",
    "\n",
    "As expected, the intersection problem of a stright line with a circle can either have two solutions, one solution, or no solution at all.\n",
    "\n",
    "In case of $b = 0$ we can proceed similarly.\n",
    "Since in this case we can guarantee $a \\neq 0$."
   ]
  },
  {
   "cell_type": "markdown",
   "metadata": {},
   "source": [
    "## 3 Implementation\n",
    "We initialize all variables that describe the robot and the obstacle with plausible values.\n",
    "During the complete simulation we should always keep in mind that everything should also work with different values."
   ]
  },
  {
   "cell_type": "code",
   "execution_count": null,
   "metadata": {},
   "outputs": [],
   "source": [
    "def robotValues():\n",
    "    \n",
    "    # obstacle\n",
    "    h = 2.5 # height of the obstacle  \n",
    "    w = 1.0 # width of the obstacle \n",
    "    d = 5.0 # distance to the origin of the obstacle \n",
    "\n",
    "    # robot arms\n",
    "    l1 = 6.0 # length of the first arm\n",
    "    l2 = 6.0 # length of the second arm\n",
    "    l3 = 1.0 # length of the third arm\n",
    "\n",
    "    # object\n",
    "    r = 0.5 # radius of the object\n",
    "    \n",
    "    return h, w, d, l1, l2, l3, r"
   ]
  },
  {
   "cell_type": "markdown",
   "metadata": {},
   "source": [
    "### 3.1 Direct kinematics\n",
    "In the last chapter we derived the formulas for direct kinematics.\n",
    "The input for the function `robotDirectKinematics()` are the angles $\\alpha$ and $\\beta$."
   ]
  },
  {
   "cell_type": "markdown",
   "metadata": {},
   "source": [
    "<div class=\"alert alert-block alert-info\">\n",
    "    \n",
    "### Task 2: Direct kinematics <font color=red>(2 points)</font>\n",
    "\n",
    "Implement the function `robotDirectKinematics()` and test it with \n",
    "$\\alpha = \\frac{\\pi}{3}$ and $\\beta = \\frac{\\pi}{2}$.\n",
    "</div>"
   ]
  },
  {
   "cell_type": "markdown",
   "metadata": {},
   "source": [
    "<div class=\"alert alert-block alert-success\">\n",
    "    \n",
    "<b>Solution of Task 2</b>\n",
    "\n",
    "Implementation of function `robotDirectKinematics()`:\n",
    "</div>"
   ]
  },
  {
   "cell_type": "code",
   "execution_count": null,
   "metadata": {},
   "outputs": [],
   "source": [
    "# Solution of Task 2\n",
    "def robotDirectKinematics(alpha,beta):\n",
    "    \n",
    "    h, w, d, l1, l2, l3, r = robotValues()\n",
    "    \n",
    "    \n",
    "    P = l1*np.array([np.cos(alpha),np.sin(alpha)])\n",
    "    \n",
    "\n",
    "\n",
    "    y = alpha + beta - np.pi\n",
    "\n",
    "    Q = P + l2 * np.array([np.cos(y), np.sin(y)])\n",
    "    \n",
    "    R = Q + l3 * np.array([0, -1])\n",
    "    M = R + r * np.array([0, -1])\n",
    "    T = M + r * np.array([0,-1])\n",
    "    \n",
    "    return P, Q, R, M, T"
   ]
  },
  {
   "cell_type": "markdown",
   "metadata": {},
   "source": [
    "<div class=\"alert alert-block alert-success\">\n",
    "\n",
    "<b>Solution of Task 2</b>\n",
    "    \n",
    "Test of function `robotDirectKinematics()` with\n",
    "$\\alpha = \\frac{\\pi}{3}$ and $\\beta = \\frac{\\pi}{2}$:\n",
    "</div>"
   ]
  },
  {
   "cell_type": "code",
   "execution_count": null,
   "metadata": {},
   "outputs": [],
   "source": [
    "# Solution of Task 2\n",
    "robotDirectKinematics(np.pi/3, np.pi/2)"
   ]
  },
  {
   "cell_type": "markdown",
   "metadata": {},
   "source": [
    "### 3.2 Inverse kinematics\n",
    "We use Newton's method for finding roots to calculate the angles $\\alpha$ and $\\beta$ according to a given position $T$.\n",
    "Therefore we use the functions $f_1$ and $f_2$ as described it in the last chapter.\n",
    "\n",
    "In the final simulation we use a sequence of positions that are close together along a path.\n",
    "The angles of the last position can be used as starting values to calculate the angles for the current position.\n",
    "Thus in the function `robotInverseKinematics()` we use the angles $\\alpha$ and $\\beta$ both as input and output.\n",
    "\n",
    "The iteration is stopped as soon as a sufficient accuracy is reached."
   ]
  },
  {
   "cell_type": "markdown",
   "metadata": {},
   "source": [
    "<div class=\"alert alert-block alert-info\">\n",
    "    \n",
    "### Task 3: Inverse kinematics <font color=red>(4 points)</font>\n",
    "\n",
    "Implement the function `robotInverseKinematics()`.\n",
    "Test the function with the point $T$ located on top in the middle of the obstacle.\n",
    "Which angels $\\alpha$ and $\\beta$ correspond to the point $T$?\n",
    "How many iteration steps does the Newton-Iteration need to calculate the angles?\n",
    "</div>"
   ]
  },
  {
   "cell_type": "markdown",
   "metadata": {},
   "source": [
    "<div class=\"alert alert-block alert-success\">\n",
    "\n",
    "<b>Solution of task 3</b>\n",
    "\n",
    "Implementation of function `robotInverseKinematics()`:\n",
    "</div>"
   ]
  },
  {
   "cell_type": "code",
   "execution_count": null,
   "metadata": {},
   "outputs": [],
   "source": [
    "# Solution of Task 3\n",
    "def robotInverseKinematics(T,alpha=np.pi/2.0,beta=np.pi/2.0, c=0):\n",
    "\n",
    "    h, w, d, l1, l2, l3, r = robotValues()\n",
    "\n",
    "    #\n",
    "    # Put here the code for the Newton-iteration with initial values alpha und beta\n",
    "    #\n",
    "    while True:\n",
    "        x = np.array([alpha, beta])\n",
    "        f = np.array([T[0]-l1*np.cos(alpha)+l2*np.cos(alpha+beta),\n",
    "                    T[1]-l1*np.sin(alpha)+l2*np.sin(alpha+beta)+l3+2*r])\n",
    "\n",
    "        f_ = np.array([\n",
    "            [l1*np.sin(alpha) - l2 * np.sin(alpha + beta), -l2*np.sin(alpha + beta)], \n",
    "            [-l1*np.cos(alpha) + l2*np.cos(alpha + beta), l2*np.cos(alpha + beta)]\n",
    "        ])\n",
    "\n",
    "        dx = np.linalg.solve(f_, -f)\n",
    "        x = x + dx\n",
    "        alpha, beta = x[0], x[1]\n",
    "\n",
    "        if max(abs(dx)) < 0.0001:\n",
    "            break\n",
    "    \n",
    "    return alpha, beta"
   ]
  },
  {
   "cell_type": "markdown",
   "metadata": {},
   "source": [
    "<div class=\"alert alert-block alert-success\">\n",
    "\n",
    "<b>Solution of Task 3</b>\n",
    "    \n",
    "Testing of function `robotInverseKinematics()`:\n",
    "</div>"
   ]
  },
  {
   "cell_type": "code",
   "execution_count": null,
   "metadata": {},
   "outputs": [],
   "source": [
    "# Solution of Task 3\n",
    "h, w, d, l1, l2, l3, r = robotValues()\n",
    "T = np.array([d, h])\n",
    "alpha, beta = robotInverseKinematics(T)\n",
    "print(alpha, beta)"
   ]
  },
  {
   "cell_type": "markdown",
   "metadata": {},
   "source": [
    "<div class=\"alert alert-block alert-info\">\n",
    "    \n",
    "### Task 4: Testing kinematics functions <font color=red>(2 points)</font>\n",
    "Use the function `robotDirectKinematics()` to test the function `robotInverseKinematics()`.\n",
    "What problems can occur with the function `robotInverseKinematics()`?   \n",
    "\n",
    "</div>"
   ]
  },
  {
   "cell_type": "markdown",
   "metadata": {},
   "source": [
    "<div class=\"alert alert-block alert-success\">\n",
    "\n",
    "<b>Solution of Task 4</b>\n",
    "    \n",
    "Testing of function `robotInverseKinematics()` with the function `robotDirectKinematics()`:\n",
    "</div>"
   ]
  },
  {
   "cell_type": "code",
   "execution_count": null,
   "metadata": {},
   "outputs": [],
   "source": [
    "# Solution of Task 4\n",
    "P, Q, R, M, T = robotDirectKinematics(np.pi/3,np.pi/2)\n",
    "alpha, beta = robotInverseKinematics(T)\n",
    "print(alpha, beta)\n",
    "\n",
    "\n",
    "\n"
   ]
  },
  {
   "cell_type": "markdown",
   "metadata": {},
   "source": [
    "<div class=\"alert alert-block alert-success\">\n",
    "\n",
    "<b>Solution of Task 4</b>\n",
    "    \n",
    "Problems of the function `robotInverseKinematics()`:\n",
    "    \n",
    "(1) Iteration does not converge to a solution.\n",
    "    \n",
    "(2) Jacobian matrix is singular.\n",
    "</div>"
   ]
  },
  {
   "cell_type": "code",
   "execution_count": null,
   "metadata": {},
   "outputs": [],
   "source": [
    "# Solution of Task 4\n",
    "\n",
    "\n",
    "\n",
    "\n",
    "\n",
    "\n",
    "\n",
    "\n",
    "\n"
   ]
  },
  {
   "cell_type": "markdown",
   "metadata": {},
   "source": [
    "### 3.3 Path planing\n",
    "We implement a rectangular movement for path planing.\n",
    "The motion will start at position $(x_0 \\mid 0)$ and end at position $(x_1 \\mid 0)$.\n",
    "The height ist specified by $y$ which should be greater than the height $h$ of the obstacle. \n",
    "The function will generate a sequenze of $n$ points.\n",
    "\n",
    "<div class=\"alert alert-block alert-warning\">\n",
    "    \n",
    "<b>Example</b>    \n",
    "\n",
    "For example $x_0=3$, $x_1=7$, $y=6$ and $n=13$ will generate the following path: \n",
    "\n",
    "$$\n",
    "\\left(\n",
    "    \\begin{array}{lllllllllllll}\n",
    "        3. & 3. & 3. & 3. & 3. & 4. & 5. & 6. & 7. & 7. & 7. & 7. & 7. \\\\\n",
    "        0. & 1.5 & 3. & 4.5 & 6. & 6. & 6. & 6. & 6. & 4.5 & 3. & 1.5 & 0.\n",
    "     \\end{array}\n",
    "\\right)\n",
    "$$\n",
    "\n",
    "</div>"
   ]
  },
  {
   "cell_type": "markdown",
   "metadata": {},
   "source": [
    "<div class=\"alert alert-block alert-info\">\n",
    "    \n",
    "### Task 5: Path planing <font color=red>(2 points)</font>\n",
    "\n",
    "Implement the function `robotPath()` so that a sequenze of exactly $n$ points will be generated.\n",
    "</div>"
   ]
  },
  {
   "cell_type": "markdown",
   "metadata": {},
   "source": [
    "<div class=\"alert alert-block alert-success\">\n",
    "    \n",
    "<b>Solution of task 5</b>\n",
    "\n",
    "Implementation of function `robotPath()`:\n",
    "</div>"
   ]
  },
  {
   "cell_type": "code",
   "execution_count": null,
   "metadata": {},
   "outputs": [],
   "source": [
    "# Solution of Task 5\n",
    "def robotPath(x0,x1,y,n):\n",
    "    \n",
    "    #\n",
    "    # replace this with your code!\n",
    "    #\n",
    "    \n",
    "\n",
    "    m = int(n/3)\n",
    "    xs = np.ones((m + 1))*x0\n",
    "    ys = np.linspace(0.0, y, m + 1)\n",
    "    xm = np.linspace(x0, x1, n - 2*m)\n",
    "    ym = np.ones((n - 2*m))*y\n",
    "    xe = np.ones((m + 1))*x1\n",
    "    ye = np.linspace(y, 0.0, m + 1)\n",
    "    x1 = np.concatenate((xs, xm, xe))\n",
    "    y1 = np.concatenate((ys, ym, ye))\n",
    "\n",
    "    # path = np.array([[x0, x0, x1, x1],[0.0, y, y, 0.0]])\n",
    "    path = np.array([x1, y1])\n",
    "    \n",
    "    \n",
    "    \n",
    "    return path"
   ]
  },
  {
   "cell_type": "markdown",
   "metadata": {},
   "source": [
    "Print and plot the path with $x_0=3$, $x_1=7$, $y=6$ and $n=13$:"
   ]
  },
  {
   "cell_type": "code",
   "execution_count": null,
   "metadata": {},
   "outputs": [],
   "source": [
    "path = robotPath(3.0,7.0,6.0,13)\n",
    "print(path)\n",
    "fig1, ax1 = plt.subplots()\n",
    "ax1.plot(path[0,:],path[1,:],'.r')"
   ]
  },
  {
   "cell_type": "markdown",
   "metadata": {},
   "source": [
    "### 3.4 Collision detection\n",
    "We will implement a function to calculate the intersection points of a straight line with a circle, as described in the last chapter. "
   ]
  },
  {
   "cell_type": "markdown",
   "metadata": {},
   "source": [
    "<div class=\"alert alert-block alert-info\">\n",
    "    \n",
    "### Task 6: Intersect line circle <font color=red>(4 points)</font>\n",
    "\n",
    "Implement the function `intersectLineCircle()`.\n",
    "Do not forget to also consider the special cases of vertical and horizontal straight lines.\n",
    "</div>"
   ]
  },
  {
   "cell_type": "markdown",
   "metadata": {},
   "source": [
    "<div class=\"alert alert-block alert-success\">\n",
    "\n",
    "<b>Solution of task 6</b>\n",
    "\n",
    "Implementation of function `intersectLineCircle()`:\n",
    "</div>"
   ]
  },
  {
   "cell_type": "code",
   "execution_count": null,
   "metadata": {},
   "outputs": [],
   "source": [
    "# Solution of Task 6\n",
    "def intersectLineCircle(a,b,c,M,r):\n",
    "    # line:   a*x + b*y = c\n",
    "    # circle: (x - M[0])^2 + (y - M[1])^2 = r^2\n",
    "    S = np.array([[],[]])\n",
    "    \n",
    "    d = c-a*M[0]-b*M[1]\n",
    "    A = a**2 + b**2\n",
    "    B = -2*a*d\n",
    "    C = d**2 - (r**2)*(b**2)\n",
    "    \n",
    "    Poly = np.array([A,B,C])\n",
    "    NS = np.roots(Poly)\n",
    "    \n",
    "    xE = np.array([])\n",
    "    yE = np.array([])\n",
    "    if b != 0:\n",
    "        for i in NS:\n",
    "            x = i + M[0]\n",
    "            xE = np.append(xE,x)\n",
    "            yNew = (d-a*i)/b\n",
    "            y = yNew + M[1]\n",
    "            yE = np.append(yE,y)\n",
    "    else:\n",
    "        for i in NS:\n",
    "            x = i + M[0]\n",
    "            xE = np.append(xE,x)\n",
    "            yNew = (d-a*i)\n",
    "            y = yNew + M[1]\n",
    "            yE = np.append(yE,y)\n",
    "        \n",
    "    S = np.array([[xE],[yE]])   \n",
    "    \n",
    "        \n",
    "    return S"
   ]
  },
  {
   "cell_type": "markdown",
   "metadata": {},
   "source": [
    "Test of function `intersectLineCircle()`:"
   ]
  },
  {
   "cell_type": "code",
   "execution_count": null,
   "metadata": {},
   "outputs": [],
   "source": [
    "def intersectLineCircleTest(a,b,c,M,r):\n",
    "    # line:   a*x + b*y = c\n",
    "    # circle: (x - M[0])^2 + (y - M[1])^2 = r^2\n",
    "\n",
    "    # intersect line with circle\n",
    "    S = intersectLineCircle(a,b,c,M,r)\n",
    "\n",
    "    # plot intersection points\n",
    "    fig, ax = plt.subplots(1)\n",
    "    if len(S) > 0:\n",
    "        ax.plot(S[0,:],S[1,:],'*r')\n",
    "    else:\n",
    "        print('No intersection point!')\n",
    "\n",
    "    # plot circle\n",
    "    t = np.linspace(0,2*np.pi,100)\n",
    "    ax.plot(M[0]+r*np.cos(t),M[1]+r*np.sin(t),'-b')\n",
    "    ax.set_aspect(1.0)\n",
    "\n",
    "    # plot straight line\n",
    "    x_min, x_max = M[0] - 2.0*r, M[0] + 1.5*r\n",
    "    y_min, y_max = M[1] - 2.0*r, M[1] + 1.5*r\n",
    "    if abs(a) > np.finfo(float).eps:\n",
    "        y = np.array([y_min,y_max])\n",
    "        x = (c-b*y)/a\n",
    "        ax.plot(x,y,'-k')\n",
    "    elif abs(b) > np.finfo(float).eps:\n",
    "        x = np.array([x_min,x_max])\n",
    "        y = (c-a*x)/b\n",
    "        ax.plot(x,y,'-k')\n",
    "    else:\n",
    "        print('Error !')\n",
    "\n",
    "    # set limits and grid lines\n",
    "    ax.axis([x_min,x_max,y_min,y_max])\n",
    "    ax.set_aspect('equal')\n",
    "    ax.grid(True)\n",
    "\n",
    "    return"
   ]
  },
  {
   "cell_type": "code",
   "execution_count": null,
   "metadata": {},
   "outputs": [],
   "source": [
    "intersectLineCircleTest(0.0,1.0,0.0,np.array([0.0,0.0]),1)\n",
    "intersectLineCircleTest(0.0,1.0,1.0,np.array([0.0,0.0]),1)\n",
    "intersectLineCircleTest(1.0,0.0,0.0,np.array([0.0,0.0]),1)\n",
    "intersectLineCircleTest(1.0,0.0,1.0,np.array([0.0,0.0]),1)\n",
    "intersectLineCircleTest(1.0,0.0,np.pi,np.array([0.0,0.0]),np.pi)\n",
    "intersectLineCircleTest(0.0,0.0,0.0,np.array([0.0,0.0]),1)\n",
    "intersectLineCircleTest(1.0,1.0,np.sqrt(2),np.array([0.0,0.0]),1)"
   ]
  },
  {
   "cell_type": "markdown",
   "metadata": {},
   "source": [
    "## 4 Visualization\n",
    "In order to visualize the simulation, we implement a function that draws the robot.\n",
    "The postions of the arms and the object depends on the angles $\\alpha$ and $\\beta$.\n",
    "Therefore the function `robotDraw()` gets $\\alpha$ and $\\beta$ as input arguments. "
   ]
  },
  {
   "cell_type": "code",
   "execution_count": null,
   "metadata": {},
   "outputs": [],
   "source": [
    "def robotDraw(alpha,beta):\n",
    "\n",
    "    ax = plt.gca()\n",
    "    ax.get_xaxis().set_visible(False)\n",
    "    ax.get_yaxis().set_visible(False)\n",
    "    ax.set_aspect('equal')\n",
    "    ax.set_xlim(-l1,l1+l2)\n",
    "    ax.set_ylim(-1.0,l1+l2)\n",
    "   \n",
    "    # baseline\n",
    "    baseline_x = d*np.array([-0.5,2.0])\n",
    "    baseline_y =np.array([0.0,0.0])\n",
    "    ax.plot(baseline_x,baseline_y,'-k')\n",
    "\n",
    "    # obstacle\n",
    "    obstacle_x = d+w/2*np.array([-1.0,1.0,1.0,-1.0,-1.0])\n",
    "    obstacle_y = h*np.array([0.0,0.0,1.0,1.0,0.0])\n",
    "    ax.fill_between(obstacle_x,obstacle_y,facecolor=[0.0,1.0,0.0])\n",
    "    ax.plot(obstacle_x,obstacle_y,'-k')\n",
    "\n",
    "    # robot\n",
    "    P, Q, R, M, T = robotDirectKinematics(alpha,beta)\n",
    "    ax.plot(np.array([0,P[0],Q[0],R[0]]),np.array([0,P[1],Q[1],R[1]]),'-b')\n",
    "\n",
    "    # circle\n",
    "    t = np.linspace(0.0,2*np.pi,100)\n",
    "    circle_x = M[0]+r*np.cos(t)\n",
    "    circle_y = M[1]+r*np.sin(t)\n",
    "    ax.fill_between(circle_x,circle_y,facecolor=[1.0,0.0,0.0])\n",
    "    ax.plot(circle_x,circle_y,'-k')\n",
    "\n",
    "    return"
   ]
  },
  {
   "cell_type": "markdown",
   "metadata": {},
   "source": [
    "## 5 Evaluation\n",
    "Based on the animation, we get the impression that our modeling and simulation deliver reliable results.\n",
    "However, when we take a closer look, we still see problems.\n",
    "When evaluating our simulations, two different aspects play a role: verification and validation.\n",
    "Verification and validation are not the same thing, although they are often confused.\n",
    "### 5.1 Verification\n",
    "Verification checks that the specifications are correctly implemented.\n",
    "It gives an answer to the question:\n",
    "\n",
    "__Are we implementing the simulation right?__\n",
    "\n",
    "To verify, we have to take into account, that Newton's method does not always calculate the correct angles.\n",
    "### 5.2 Validation\n",
    "Validation checks that the simulation fullfills the needs and goals of the stakholders.\n",
    "It gives an answer to the question:\n",
    "\n",
    "__Are we implementing the right simulation?__\n",
    "\n",
    "If we compare our model with reality, we would discover differences.\n",
    "We concentrated only on the pure motion sequence and disregarded all physical quantities such as mass, forces and friction."
   ]
  },
  {
   "cell_type": "markdown",
   "metadata": {},
   "source": [
    "## 6 Embedding"
   ]
  },
  {
   "cell_type": "markdown",
   "metadata": {},
   "source": [
    "With all the functions implemented we can now visualize the movement process.\n",
    "The procedure is as follows:\n",
    " - generate positions with `robotPath()`\n",
    " - for all positions\n",
    "     - calculate $\\alpha$ and $\\beta$ for each position with `robotInverseKinematics()`\n",
    "     - visualize the robot with `roborDraw()`"
   ]
  },
  {
   "cell_type": "markdown",
   "metadata": {},
   "source": [
    "<div class=\"alert alert-block alert-info\">\n",
    "    \n",
    "### Task 7: Video <font color=red>(4 points)</font>\n",
    "\n",
    "Generate an animation video of the robot.\n",
    "</div>"
   ]
  },
  {
   "cell_type": "code",
   "execution_count": null,
   "metadata": {},
   "outputs": [],
   "source": [
    "if 'google.colab' in str(get_ipython()):\n",
    "    print('IFrame() does not work in Google Colab')\n",
    "else:\n",
    "    display(IFrame('robot_animation.gif', width=300, height=200))"
   ]
  },
  {
   "cell_type": "markdown",
   "metadata": {},
   "source": [
    "<div class=\"alert alert-block alert-success\">\n",
    "    \n",
    "<b>Solution of task 7</b>\n",
    "\n",
    "Video:\n",
    "</div>"
   ]
  },
  {
   "cell_type": "code",
   "execution_count": null,
   "metadata": {},
   "outputs": [],
   "source": [
    "# Solution of Task 7\n",
    "\n",
    "x, y = robotPath(3.0,7.0,6.0,13)\n",
    "\n",
    "fig, ax = plt.subplots()\n",
    "    \n",
    "def init_animation():\n",
    "    ax.axis([0, 9, 0, 20])\n",
    "    data_animation = ax.plot([],[],'-r')\n",
    "    \n",
    "def frame_animation(frame_num):\n",
    "    fig.clf()\n",
    "    T = np.array([x[frame_num], y[frame_num]])\n",
    "    alpha, beta=robotInverseKinematics(T, np.pi/2, np.pi/2)\n",
    "    robotDraw(alpha, beta)\n",
    "\n",
    "ani_sigmoid = FuncAnimation(fig, frame_animation, init_func=init_animation, frames=np.arange(len(x)))\n",
    "\n",
    "\n",
    "html = HTML(ani_sigmoid.to_jshtml())\n",
    "display(html)\n",
    "plt.close()\n"
   ]
  },
  {
   "cell_type": "markdown",
   "metadata": {},
   "source": [
    "## Literature\n",
    " - [J.Koch, M.Stämpfle: Mathematik für das Ingenieurstudium](https://www.hanser-fachbuch.de/buch/Mathematik+fuer+das+Ingenieurstudium/9783446451667)\n",
    " - [https://en.wikipedia.org/wiki/Industrial_robot](https://en.wikipedia.org/wiki/Industrial_robot)\n",
    " - [https://www.kuka.com](https://www.kuka.com/)"
   ]
  },
  {
   "cell_type": "code",
   "execution_count": null,
   "metadata": {},
   "outputs": [],
   "source": []
  }
 ],
 "metadata": {
  "kernelspec": {
   "display_name": "Python 3 (ipykernel)",
   "language": "python",
   "name": "python3"
  },
  "language_info": {
   "codemirror_mode": {
    "name": "ipython",
    "version": 3
   },
   "file_extension": ".py",
   "mimetype": "text/x-python",
   "name": "python",
   "nbconvert_exporter": "python",
   "pygments_lexer": "ipython3",
   "version": "3.9.7"
  },
  "vscode": {
   "interpreter": {
    "hash": "a117527e71c9235e8171501342e68793e0723812bc0bf154d3be898b05e3508c"
   }
  }
 },
 "nbformat": 4,
 "nbformat_minor": 2
}
