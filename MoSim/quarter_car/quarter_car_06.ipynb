{
 "cells": [
  {
   "cell_type": "markdown",
   "metadata": {},
   "source": [
    "<h1>Project quarter car<span class=\"tocSkip\"></span></h1>"
   ]
  },
  {
   "cell_type": "markdown",
   "metadata": {},
   "source": [
    "Please fill in the names of the team mebers.\n",
    "\n",
    "<div class=\"alert alert-block alert-danger\">\n",
    "\n",
    "<b>Team: 6</b>\n",
    "- Moritz\n",
    "- Emir\n",
    "- Alessa\n",
    "- Noah\n",
    "    \n",
    "<b>Result:</b>\n",
    "    \n",
    "| Task   |  1  |  2  |  3  |  4  |  5  |  6  |  7  |  8  |  9  |  10 |  Sum  |\n",
    "|--------|-----|-----|-----|-----|-----|-----|-----|-----|-----|-----|--------\n",
    "| Points | ?/2 | ?/2 | ?/2 | ?/2 | ?/1 | ?/3 | ?/3 | ?/2 | ?/1 | ?/2 | ??/20 |  \n",
    "\n",
    "    \n",
    "</div>"
   ]
  },
  {
   "cell_type": "markdown",
   "metadata": {},
   "source": [
    "## Packages\n",
    "\n",
    "<div class=\"alert alert-block alert-danger\">\n",
    "    \n",
    "<b>Important: Do not import other packages or libraries!</b>\n",
    "    \n",
    "</div>"
   ]
  },
  {
   "cell_type": "markdown",
   "metadata": {},
   "source": [
    "### Python"
   ]
  },
  {
   "cell_type": "code",
   "execution_count": null,
   "metadata": {},
   "outputs": [],
   "source": [
    "from platform import python_version\n",
    "print('python version = '+ python_version())"
   ]
  },
  {
   "cell_type": "markdown",
   "metadata": {},
   "source": [
    "### Display images and videos"
   ]
  },
  {
   "cell_type": "code",
   "execution_count": null,
   "metadata": {},
   "outputs": [],
   "source": [
    "from IPython.display import HTML, Image, IFrame, YouTubeVideo"
   ]
  },
  {
   "cell_type": "markdown",
   "metadata": {},
   "source": [
    "### NumPy"
   ]
  },
  {
   "cell_type": "code",
   "execution_count": null,
   "metadata": {},
   "outputs": [],
   "source": [
    "import numpy as np\n",
    "print('numpy version = '+ np.__version__)"
   ]
  },
  {
   "cell_type": "markdown",
   "metadata": {},
   "source": [
    "### SymPy"
   ]
  },
  {
   "cell_type": "code",
   "execution_count": null,
   "metadata": {},
   "outputs": [],
   "source": [
    "import sympy as sp\n",
    "print('sympy version = '+ sp.__version__)\n",
    "sp.init_printing()"
   ]
  },
  {
   "cell_type": "markdown",
   "metadata": {},
   "source": [
    "### Matplotlib"
   ]
  },
  {
   "cell_type": "code",
   "execution_count": null,
   "metadata": {},
   "outputs": [],
   "source": [
    "import matplotlib\n",
    "import matplotlib.pyplot as plt\n",
    "from matplotlib.animation import FuncAnimation\n",
    "print('matplotlib version = '+ matplotlib.__version__)"
   ]
  },
  {
   "cell_type": "markdown",
   "metadata": {},
   "source": [
    "### Google Colab\n",
    "If you are using Google Colab mount drive and change directory."
   ]
  },
  {
   "cell_type": "code",
   "execution_count": null,
   "metadata": {},
   "outputs": [],
   "source": [
    "if 'google.colab' in str(get_ipython()):\n",
    "    print('Running on Google Colab')\n",
    "    from google.colab import drive\n",
    "    drive.mount('/content/gdrive')\n",
    "    %cd '/content/gdrive/MyDrive/Colab Notebooks/Modelling and Simulation/quarter_car'\n",
    "else:\n",
    "    print('Not running on Google Colab')"
   ]
  },
  {
   "cell_type": "markdown",
   "metadata": {},
   "source": [
    "## 1 Modelling\n",
    "Vehicle dynamics describes the effect of forces on moving vehicles, such as cars.\n",
    "In the simulation of vehicle dynamics, the behavior of a digital vehicle model is calculated by computer programs.\n",
    "In this process, certain driving situations are performed virtually.\n",
    "A realistic simulation requires a complex modelling of the parts installed in the vehicle.\n",
    "Especially for tires, there are many different models for simulation.\n",
    "Simulations are also used to optimize the design of the vehicle in terms of fuel consumption and environmental impact."
   ]
  },
  {
   "cell_type": "code",
   "execution_count": null,
   "metadata": {},
   "outputs": [],
   "source": [
    "YouTubeVideo('656Unj19nww')"
   ]
  },
  {
   "cell_type": "markdown",
   "metadata": {},
   "source": [
    "In this project a very simplified model is considered, where the vehicle consists of only one mass point, which is connected to a wheel via a spring-damper system.\n",
    "In vehicle dynamics, this simplified model is called a quarter car suspension.\n",
    "The aim is to simulate and visualize the vibration behavior of the spring-damper system.\n",
    "Virtual test tracks with different road profiles are analysed."
   ]
  },
  {
   "cell_type": "code",
   "execution_count": null,
   "metadata": {},
   "outputs": [],
   "source": [
    "Image('quarter_car_coble_stones.jpg', width=353, height=109)"
   ]
  },
  {
   "cell_type": "markdown",
   "metadata": {},
   "source": [
    "## 2 Numerical treatment\n",
    "A mathematical description for both the test track and the spring-damper system is needed."
   ]
  },
  {
   "cell_type": "markdown",
   "metadata": {},
   "source": [
    "### 2.1 Coordinate system\n",
    "The common coordinate system for the test track and the spring-damper system is defined in such a way that the rolling movement of the wheel is in the direction of the $x$-axis and the oscillation of the mass is perpendicular to this in the $y$-direction.\n",
    "The position of the origin is at the point where the wheel touches the road surface at the beginning of the test track.\n",
    "The vehicle drives in $x$-direction with constant speed $v$."
   ]
  },
  {
   "cell_type": "markdown",
   "metadata": {},
   "source": [
    "### 2.2 Test track\n",
    "The vibration behaviour of the quarter vehicle is influenced by the mass $m$, which is ideally concentrated in one point.\n",
    "The aim is to simulate the movement of this mass point.\n",
    "Starting at time $t_0=0$ the time $t_{\\mbox{max}}$ is required to run the test track.\n",
    "At time $t$ the mass point is located at position\n",
    "\n",
    "$$\n",
    "\\left(\\, x(t) \\mid y(t) \\,\\right), \\quad t \\in \\left[t_0,t_1\\right] \\, .\n",
    "$$\n",
    "\n",
    "To describe the height of road profile at postion $x$ a function $f$ is used:\n",
    "\n",
    "$$\n",
    "f(x(t)), \\quad t \\in \\left[t_0,t_1\\right] \\, .\n",
    "$$\n",
    "\n",
    "Since the movement starts at the origin, the function $f$ must fulfill the condition\n",
    "\n",
    "$$\n",
    "    f(0)=0.\n",
    "$$\n",
    "\n",
    "A simple approach is to simulate a rumble strip test track, represented by the function \n",
    "\n",
    "$$\n",
    "    f(x) = A \\, sin( \\omega \\, x) \\, .\n",
    "    \\quad \\quad (*)\n",
    "$$\n",
    "\n",
    "Here $\\omega$ denotes the angular frequency and $A$ is used to specify the height of the rumble strips.   "
   ]
  },
  {
   "cell_type": "markdown",
   "metadata": {},
   "source": [
    "### 2.3 Equation of motion\n",
    "For a test track which, apart from a few bumps in the ground, runs horizontally, there is an approximate correlation at constant speed $v$:\n",
    "\n",
    "$$\n",
    "x(t) = v \\, t, \\quad \\dot{x}(t) = v \\, .\n",
    "$$\n",
    "\n",
    "The vertical deflection $y(t)$ of the idealized mass point as a function of time $t$ is not so easy to determine.\n",
    "Depending on the profile of the test track, the mass oscillates around the equilibrium position, which is designated $y_0$.\n",
    "The mass point is in the equilibrium position at the beginning of the test drive and the speed in $y$ direction is zero:\n",
    "\n",
    "$$\n",
    "y(0) = y_0, \\quad \\dot{y}(0) = 0.\n",
    "$$\n",
    "\n",
    "The aim is to determine a mathematical description of the movement of the mass point as a function of time.\n",
    "This mathematical description results from the consideration of several physical laws."
   ]
  },
  {
   "cell_type": "code",
   "execution_count": null,
   "metadata": {},
   "outputs": [],
   "source": [
    "Image('quarter_car_mass_spring_damper.jpg', width=150, height=160)"
   ]
  },
  {
   "cell_type": "markdown",
   "metadata": {},
   "source": [
    "<b>Spring</b>\n",
    "\n",
    "According to Hooke's law, the distance of extension or compression of a spring is approximately proportional to the force acting on it.\n",
    "The proportionality factor $c$ is called the characteristic of the spring.\n",
    "For the spring force $F_{\\mbox{spring}}$, which acts on the mass $m$ at time $t$, the following applies:\n",
    "\n",
    "$$\n",
    "F_{\\mbox{spring}}(t) = - c \\, \\underbrace{ \\left( y(t) - y_0 - f(x(t)) \\right) }_{\\mbox{vertical deflection}}.\n",
    "$$\n",
    "\n",
    "The vertical deflection at time $t$ depends on the vertical position $y$ of the mass $m$, the equilibrium position $y_0$ and the height of the road profile $f$.\n",
    "The negative sign results from the fact that the spring force on the mass always acts against the direction of the deflection.\n",
    "\n",
    "<b>Damper</b>\n",
    "\n",
    "The damper creates a frictional force $F_{\\mbox{damper}}$.\n",
    "Because of the small speed of the movement in $y$ direction, we assume that the frictional force is proportional to the speed of the mass $m$ in vertical direction.\n",
    "The proportionality factor $k$ is called damping coefficient.\n",
    "The frictional force acts against the direction of movement, so the following applies:\n",
    "\n",
    "$$\n",
    "\tF_{\\mbox{damper}}(t)\n",
    "\t= - k \\, \\underbrace{ \\frac{\\mbox{d}}{\\mbox{d} \\, t} \\left( y(t) - y_0 - f(x(t)) \\right)}_{\\mbox{vertical speed}}\n",
    "\t= - k \\, \\left( \\dot{y}(t) - f'(x(t)) \\, \\dot{x}(t) \\right).\n",
    "$$\n",
    "\n",
    "The second representation results from the chain rule of differential calculus.\n",
    "The notation $\\dot{y}$ means derivative with respect to time $t$ and $f'$ is the derivative with respect to the distance $x$.\n",
    "\n",
    "<b>Newton's second law</b>\n",
    "\n",
    "According to Newton's second law, all external forces are compensated by the mass of that object multiplied by the acceleration:\n",
    "\n",
    "$$\n",
    "F_{\\mbox{spring}}(t) + F_{\\mbox{dumper}}(t) = m \\cdot \\underbrace{\\ddot{y}(t)}_{\\mbox{vertical acceleration}}.\n",
    "$$\n",
    "\n",
    "<b>Differential equation</b>\n",
    "\n",
    "Setting the equation for the spring and the equation for the damper into Newton's second law results in:\n",
    "\n",
    "$$\n",
    "\tm \\, \\ddot{y}(t) =\n",
    "\t-c \\, \\left( y(t) - y_0 - f(v \\cdot t) \\right)\n",
    "\t-k \\, \\left( \\dot{y}(t) - v \\, f'(v \\cdot t) \\right),\n",
    "\t\\quad y(0) = y_0, \\, \\dot{y}(0) = 0. \n",
    "    \\quad \\quad (**)\n",
    "$$\n",
    "\n",
    "This initial value problem describes the movement of the mass point in vertical direction.\n",
    "There are basically two different strategies for determining the solution.\n",
    "One can determine the exact analytic solution using symbolic mathematical calculations or calculate approximate values by a numerical method.\n",
    "We will look at both strategies in more detail.  "
   ]
  },
  {
   "cell_type": "markdown",
   "metadata": {},
   "source": [
    "### 2.4 Analytic solution\n",
    "The initial value problem $(**)$ is based on a second-order linear ordinary differential equation with constant coefficients.\n",
    "For such problems the solution of the homogeneous equation is easy to calculate. "
   ]
  },
  {
   "cell_type": "markdown",
   "metadata": {},
   "source": [
    "<div class=\"alert alert-block alert-info\">\n",
    "    \n",
    "### Task 1: Homogeneous equation <font color=red>(2 points)</font>\n",
    "Use `sympy.dsolve()` to calculate all solutions of the homogenious ordinary differential equation\n",
    "    \n",
    "$$\n",
    "\tm \\, \\ddot{y}(t) + k \\, \\dot{y}(t) + c \\, y(t) = 0 \\, .\n",
    "$$\n",
    "</div>"
   ]
  },
  {
   "cell_type": "markdown",
   "metadata": {},
   "source": [
    "<div class=\"alert alert-block alert-success\">  \n",
    "<b>Solution of Task 1</b>\n",
    "</div>"
   ]
  },
  {
   "cell_type": "code",
   "execution_count": null,
   "metadata": {},
   "outputs": [],
   "source": [
    "#\n",
    "# Python code of Task 1\n",
    "#\n",
    "def quarterCarSolutionHomogen():\n",
    "    t = sp.symbols('t')\n",
    "    y = sp.Function('y')(t)\n",
    "    \n",
    "    yp = sp.Derivative(y)\n",
    "    yp2 = sp.Derivative(yp)\n",
    "    ode = sp.Eq(m * yp2 + k * yp + c * y ,0)    \n",
    "\n",
    "    return sp.dsolve(ode)"
   ]
  },
  {
   "cell_type": "code",
   "execution_count": null,
   "metadata": {},
   "outputs": [],
   "source": [
    "#\n",
    "# Python code of Task 1\n",
    "#\n",
    "def quarterCarSolutionHomogenTest():\n",
    "    global m, k, c\n",
    "    m, k, c = sp.symbols('m, k, c')\n",
    "    y = quarterCarSolutionHomogen()\n",
    "    #sp.pprint(y)\n",
    "    display(y)\n",
    "    \n",
    "quarterCarSolutionHomogenTest()\n"
   ]
  },
  {
   "cell_type": "markdown",
   "metadata": {},
   "source": [
    "The non-homogeneous part of the differential equation depends on the function $f$, which describes the test track.\n",
    "Since the rumple strip test track is represented by a sine function, the exact analytic solution can be calculated with SymPy. "
   ]
  },
  {
   "cell_type": "markdown",
   "metadata": {},
   "source": [
    "<div class=\"alert alert-block alert-info\">\n",
    "    \n",
    "### Task 2: Initial value problem <font color=red>(2 points)</font>\n",
    "Use `sympy.dsolve()` to calculate the solution of the initial value problem $(**)$ for the rumble strip test track $(*)$. \n",
    "</div>"
   ]
  },
  {
   "cell_type": "markdown",
   "metadata": {},
   "source": [
    "<div class=\"alert alert-block alert-success\">\n",
    "    \n",
    "<b>Solution of Task 2</b>\n",
    "\n",
    "</div>"
   ]
  },
  {
   "cell_type": "code",
   "execution_count": null,
   "metadata": {},
   "outputs": [],
   "source": [
    "#\n",
    "# Python code of Task 2\n",
    "#\n",
    "def quarterCarSolutionIVP():\n",
    "    t = sp.symbols('t')\n",
    "    y = sp.Function('y')(t)\n",
    "    \n",
    "    \n",
    "    yp = sp.Derivative(y)\n",
    "    yp2 = sp.Derivative(yp)\n",
    "    f = A*sp.sin(omega*t)\n",
    "    fp = sp.Derivative(f, t)\n",
    "\n",
    "    ode = sp.Eq(m * yp2, -c * (y - y_0 - f) - k*(yp-v*fp))\n",
    "    ics = {y.subs(t, 0): y_0, yp.subs(t, 0): 0}    \n",
    "\n",
    "    return sp.dsolve(ode, ics=ics)"
   ]
  },
  {
   "cell_type": "code",
   "execution_count": null,
   "metadata": {},
   "outputs": [],
   "source": [
    "#\n",
    "# Python code of Task 2\n",
    "#\n",
    "def quarterCarSolutionIVPTest():\n",
    "    global m, k, c, y_0, v, A, omega\n",
    "    m, k, c, y_0, v, A, omega = sp.symbols('m, k, c, y_0, v, A, omega')\n",
    "    y = quarterCarSolutionIVP()\n",
    "    #sp.pprint(y)\n",
    "    display(y)\n",
    "\n",
    "quarterCarSolutionIVPTest()"
   ]
  },
  {
   "cell_type": "markdown",
   "metadata": {},
   "source": [
    "### 2.5 Numerical solution\n",
    "The most basic approximation method for solving ODEs is Euler's method.\n",
    "In our approach, we will only focus on this simple method.\n",
    "The idea is to convert the second-order ODE into two first-order ODEs."
   ]
  },
  {
   "cell_type": "markdown",
   "metadata": {},
   "source": [
    "<div class=\"alert alert-block alert-info\">\n",
    "    \n",
    "### Task 3: State variables <font color=red>(2 points)</font>\n",
    "Rewrite the initial value problem $(**)$ into a system with two first-order equations using the state variables $z_0$ and $z_1$.\n",
    "</div>"
   ]
  },
  {
   "cell_type": "markdown",
   "metadata": {},
   "source": [
    "<div class=\"alert alert-block alert-success\">\n",
    "    \n",
    "<b>Solution of Task 3</b>\n",
    "\n",
    "\n",
    "Mit $y = z_0$ ergibt sich:\n",
    "    \n",
    "$$\n",
    "    \\begin{array}{ccl}\n",
    "    \\dot{z_0} &=& z_1 \\\\\n",
    "    m \\, \\dot{z_1} &=& -c \\, \\left(z_0 - y_0 - f \\left(v \\, t \\right) \\right) - k \\, \\left( z_1 - v \\, \\dot{f} \\left(v \\, t \\right)\\right)\n",
    "    \\end{array}\n",
    "$$\n",
    "\n",
    "Nach z aufgelöst:\n",
    "\n",
    "$$\n",
    "    \\begin{array}{ccl}\n",
    "    \\dot{z_0} &=& z_1 \\\\\n",
    "    \\dot{z_1} &=& \\frac{-c \\, \\left(z_0 - y_0 - f \\left (v \\, t \\right) \\right) - k \\, \\left( z_1 - v \\, \\dot{f} \\left(v \\, t \\right)\\right)}{m}\n",
    "    \\end{array}\n",
    "$$\n",
    "\n",
    "    \n",
    "\n",
    "\n",
    "</div>"
   ]
  },
  {
   "cell_type": "markdown",
   "metadata": {},
   "source": [
    "## 3 Implementation\n",
    "The implementation should be flexible enough to simulate driving over different test tracks.\n",
    "It is not guaranteed that the solution of the initial value problem can be exactly calculated analytically for any test track.\n",
    "Thus the implementation is done with Euler's method.\n",
    "For this purpose we define numerical values for all physical quantities. \n",
    "Please note that the simulation should also work if these values are changed."
   ]
  },
  {
   "cell_type": "code",
   "execution_count": null,
   "metadata": {},
   "outputs": [],
   "source": [
    "def quarterCarNumericalValues():\n",
    "    m = 150.0   # mass [kg]\n",
    "    k = 300.0   # damper constant [Ns/m]\n",
    "    c = 600.0   # spring constant [N/m]\n",
    "    y_0 = 1.0   # equilibrium [m]\n",
    "    v = 4.0     # velocity [m/s]\n",
    "    return m, k, c, y_0, v"
   ]
  },
  {
   "cell_type": "markdown",
   "metadata": {},
   "source": [
    "### 3.1 Test track\n",
    "For the rumble strip test track we implement the function `quarterCarRoad()`.\n",
    "This function not only has a single $x$-value as input argument, but a `numpy.array()` with many $x$-values.\n",
    "The output consists of two arrays `f` and `fp`, which contain the corresponding function values $f(x)$ and the values of the derivative $f'(x)$ for each $x$ value. "
   ]
  },
  {
   "cell_type": "markdown",
   "metadata": {},
   "source": [
    "<div class=\"alert alert-block alert-info\">\n",
    "    \n",
    "### Task 4: Rumble strip test track <font color=red>(2 points)</font>\n",
    "Implement the function `quarterCarRoad()` for the rumble strip test track and test the function with a plot that shows $f(x)$ and $f'(x)$ for a simulation time of one second in a single plot.\n",
    "</div>"
   ]
  },
  {
   "cell_type": "markdown",
   "metadata": {},
   "source": [
    "<div class=\"alert alert-block alert-success\">  \n",
    "<b>Solution of Task 4</b>\n",
    "    \n",
    "Implementation of function `quarterCarRoad()`:\n",
    "</div>"
   ]
  },
  {
   "cell_type": "code",
   "execution_count": null,
   "metadata": {},
   "outputs": [],
   "source": [
    "#\n",
    "# Python code of Task 4\n",
    "#\n",
    "def quarterCarRoad(x):\n",
    "    A = 0.05    # amplitude [m]\n",
    "    omega = 5.0 # frequency [1/s]\n",
    "    \n",
    "    f = np.array(A*np.sin(omega*x))\n",
    "    fp = np.array(A*omega*np.cos(omega*x))\n",
    "    \n",
    "    return f, fp"
   ]
  },
  {
   "cell_type": "markdown",
   "metadata": {},
   "source": [
    "<div class=\"alert alert-block alert-success\">  \n",
    "Plot:\n",
    "</div>"
   ]
  },
  {
   "cell_type": "code",
   "execution_count": null,
   "metadata": {},
   "outputs": [],
   "source": [
    "#\n",
    "# Python code of Task 4\n",
    "#\n",
    "def quarterCarRoadTest():\n",
    "    global m, k, c, y_0, v\n",
    "    m, k, c, y_0, v = quarterCarNumericalValues()\n",
    "\n",
    "    x=np.linspace(0, 1, 10)\n",
    "    f, fp= quarterCarRoad(x)\n",
    "\n",
    "    plt.plot(x, f, 'blue' )\n",
    "    plt.plot(x, fp, 'red') \n",
    "    plt.show()\n",
    "\n",
    "    \n",
    "quarterCarRoadTest()"
   ]
  },
  {
   "cell_type": "markdown",
   "metadata": {},
   "source": [
    "### 3.2 Euler's method\n",
    "Using the representation of the initial value problem with state variables form task 3 together with the function `quarterCarRoad()` from task 4, the system of differential equations for Euler's method can be implemented."
   ]
  },
  {
   "cell_type": "markdown",
   "metadata": {},
   "source": [
    "<div class=\"alert alert-block alert-info\">\n",
    "    \n",
    "### Task 5: Quarter car ode <font color=red>(1 point)</font>\n",
    "Implement the function `quarterCarOde()`.\n",
    "</div>"
   ]
  },
  {
   "cell_type": "markdown",
   "metadata": {},
   "source": [
    "<div class=\"alert alert-block alert-success\">  \n",
    "<b>Solution of Task 5</b>\n",
    "    \n",
    "Implementation of function `quarterCarOde()`:\n",
    "</div>"
   ]
  },
  {
   "cell_type": "code",
   "execution_count": null,
   "metadata": {},
   "outputs": [],
   "source": [
    "#\n",
    "# Python code of Task 5\n",
    "# \n",
    "def quarterCarOde(t,z):\n",
    "    \n",
    "    global m, k, c, y_0, v\n",
    "    m, k, c, y_0, v = quarterCarNumericalValues()\n",
    "    \n",
    "    x = v * t\n",
    "    f, fp = quarterCarRoad(x)\n",
    "    zp = np.array([z[1], (-c * (z[0] - y_0 - f) - k * (z[1] -v * fp)) / m])\n",
    "    \n",
    "    return zp"
   ]
  },
  {
   "cell_type": "markdown",
   "metadata": {},
   "source": [
    "The basis for Euler's method is the function `quarterCarOde()`.\n",
    "The step size $h$ is passed to the function for Euler's method as input argument.\n",
    "The function should return the time values $t$ and the values for the oszilation of the mass $y$."
   ]
  },
  {
   "cell_type": "markdown",
   "metadata": {},
   "source": [
    "<div class=\"alert alert-block alert-info\">\n",
    "    \n",
    "### Task 6: Euler's method <font color=red>(3 points)</font>\n",
    "Implement Euler's method with the function `quarterCarEuler()` using `quarterCarOde()`.\n",
    "Generete a plot which shows both, the rumble strip $f$ and the oszilation of the mass $y$ in a single plot.\n",
    "</div>"
   ]
  },
  {
   "cell_type": "markdown",
   "metadata": {},
   "source": [
    "<div class=\"alert alert-block alert-success\">  \n",
    "<b>Solution of Task 6</b>\n",
    "    \n",
    "Implementation of function `quarterCarEuler()`:\n",
    "</div>"
   ]
  },
  {
   "cell_type": "code",
   "execution_count": null,
   "metadata": {},
   "outputs": [],
   "source": [
    "#\n",
    "# Python code of Task 6\n",
    "# \n",
    "def quarterCarEuler(h=0.01,t0=0.0,t1=1.0):\n",
    "    t = np.arange(t0, t1, h)\n",
    "    n = np.size(t)\n",
    "    z = np.zeros([2, n])\n",
    "    z[:,0] = np.array([y_0,0.0])\n",
    "    \n",
    "    for k in range(n - 1):\n",
    "        z[:,k + 1] = z[:,k] + h * quarterCarOde(t[k], z[:,k])\n",
    "        \n",
    "    y = z[0,:]\n",
    "\n",
    "    return t, y"
   ]
  },
  {
   "cell_type": "markdown",
   "metadata": {},
   "source": [
    "<div class=\"alert alert-block alert-success\">  \n",
    "Plot:\n",
    "</div>"
   ]
  },
  {
   "cell_type": "code",
   "execution_count": null,
   "metadata": {},
   "outputs": [],
   "source": [
    "#\n",
    "# Python code of Task 6\n",
    "#\n",
    "def quarterCarEulerTest():\n",
    "    global m, k, c, y_0, v\n",
    "    m, k, c, y_0, v = quarterCarNumericalValues()\n",
    "    \n",
    "    t,y = quarterCarEuler()\n",
    "    \n",
    "    f, fp = quarterCarRoad(t)\n",
    "    \n",
    "    x = v * t\n",
    "    plt.plot(x, f, \"blue\")\n",
    "    plt.plot(x, y, 'red')\n",
    "    plt.show()\n",
    "\n",
    "    \n",
    "quarterCarEulerTest()"
   ]
  },
  {
   "cell_type": "markdown",
   "metadata": {},
   "source": [
    "## 4 Visualization\n",
    "To visualize a simulation of a test drive, we need a graphical representation of the road profile and the quarter vehicle."
   ]
  },
  {
   "cell_type": "markdown",
   "metadata": {},
   "source": [
    "### 4.1 Quarter car\n",
    "The function `quarterCarDraw()` represents the quarter car.\n",
    "It must be taken into account that the representation of the spring and damper changes dynamically due to the oscillation process.\n",
    "In the state of equilibrium the center of the mass is located at a distance of $y_0$ above the roadway.\n",
    "With the function `quarterCarDraw()` the model of the quarter car can be drawn at any position $x$.\n",
    "The second input argument $y$ specifies the $y$ position of the mass."
   ]
  },
  {
   "cell_type": "code",
   "execution_count": null,
   "metadata": {},
   "outputs": [],
   "source": [
    "def quarterCarDraw(x,y,f):\n",
    "    \n",
    "    # figure\n",
    "    fig = plt.gcf()\n",
    "    \n",
    "    # get axis of figure\n",
    "    ax = fig.gca()\n",
    "    ax.axis('equal')   \n",
    "        \n",
    "    # wheel\n",
    "    rr = 0.3; # wheel radius\n",
    "    tt = np.linspace(0,2*np.pi,24)\n",
    "    ax.fill(x+rr*np.cos(tt),f+rr+rr*np.sin(tt),'k')\n",
    "        \n",
    "    # mass\n",
    "    ww = 0.6 # mass width\n",
    "    hh = 0.3 # mass height\n",
    "    xx = np.array([-1.0, 1.0, 1.0,-1.0,-1.0])\n",
    "    yy = np.array([-1.0,-1.0, 1.0, 1.0,-1.0])\n",
    "    ax.fill(x+0.5*ww*xx,y+0.5*hh*yy,'b')\n",
    "\n",
    "    # absorber\n",
    "    aa = 0.5 # absorber length\n",
    "    yy = np.array([ 0.0, 0.0, 1.0, 1.0, 0.0])\n",
    "    ax.fill(x+0.1*ww*xx,y-aa*yy,'r')\n",
    "    ax.fill(x+0.05*ww*xx,f+rr+aa*yy,'r')\n",
    "\n",
    "    # spring\n",
    "    ll = 0.1 # spring length\n",
    "    dd = (y - f - 2*ll - rr)/6.0\n",
    "    xx = np.array([0.0,-rr,rr,-rr,rr,-rr,rr,0.0])\n",
    "    yy = np.array([0.0,0.5,1.5,2.5,3.5,4.5,5.5,6])\n",
    "    ax.plot(np.array([x,x]),f+rr+np.array([0.0,ll]),'g',linewidth=4)\n",
    "    ax.plot(x+xx,f+rr+ll+dd*yy,'g',linewidth=4)\n",
    "    ax.plot(np.array([x,x]),y-np.array([ll,0.0]),'g',linewidth=4)\n",
    "    \n",
    "    return"
   ]
  },
  {
   "cell_type": "markdown",
   "metadata": {},
   "source": [
    "The position $y$ should be calculated by Euler's method before using it as input for the function `quarterCarDraw()`."
   ]
  },
  {
   "cell_type": "code",
   "execution_count": null,
   "metadata": {},
   "outputs": [],
   "source": [
    "def quarterCarDrawTest():\n",
    "    global m, k, c, y_0, v\n",
    "    m, k, c, y_0, v = quarterCarNumericalValues()\n",
    "\n",
    "    # oszilation of the mass y \n",
    "    t, y = quarterCarEuler()\n",
    "\n",
    "    # road f\n",
    "    x = v*t\n",
    "    f, fp = quarterCarRoad(x)\n",
    "\n",
    "    # figure\n",
    "    fig = plt.gcf()\n",
    "    fig.clf()\n",
    "    fig.set_size_inches(20,5)\n",
    "\n",
    "    # get axis of figure\n",
    "    ax = fig.gca()\n",
    " \n",
    "    # draw road\n",
    "    ax.plot(x,f,'-b')\n",
    " \n",
    "    # draw quarter car\n",
    "    n = np.size(t)\n",
    "    quarterCarDraw(x[n//2],y[n//2],f[n//2])\n",
    "    \n",
    "    return\n",
    "\n",
    "#quarterCarDrawTest()"
   ]
  },
  {
   "cell_type": "code",
   "execution_count": null,
   "metadata": {},
   "outputs": [],
   "source": [
    "if 'google.colab' in str(get_ipython()):\n",
    "    print('IFrame() does not work with Google Colab')\n",
    "else:\n",
    "    display(IFrame('quarter_car_rumble_strip.gif', width=720, height=180))"
   ]
  },
  {
   "cell_type": "markdown",
   "metadata": {},
   "source": [
    "<div class=\"alert alert-block alert-info\">\n",
    "    \n",
    "### Task 7: Animation <font color=red>(3 points)</font>\n",
    "\n",
    "Implement a frame function and generate an animation video of the quarter car on the rumble strip test track.\n",
    "</div>"
   ]
  },
  {
   "cell_type": "markdown",
   "metadata": {},
   "source": [
    "<div class=\"alert alert-block alert-success\">  \n",
    "<b>Solution of Task 7</b>\n",
    "    \n",
    "Frame function:\n",
    "</div>"
   ]
  },
  {
   "cell_type": "code",
   "execution_count": null,
   "metadata": {},
   "outputs": [],
   "source": [
    "#\n",
    "# Python code of Task 7\n",
    "#\n",
    "def quarterCarFrame(k):\n",
    "\n",
    "    plt.cla()\n",
    "    ax.plot(x, f, '-b')\n",
    "    quarterCarDraw(x[k], y[k], f[k])  \n",
    "    \n",
    "\n",
    "    return"
   ]
  },
  {
   "cell_type": "markdown",
   "metadata": {},
   "source": [
    "<div class=\"alert alert-block alert-success\">  \n",
    "<b>Solution of Task 7</b>\n",
    "    \n",
    "Generation of an animation video:\n",
    "</div>"
   ]
  },
  {
   "cell_type": "code",
   "execution_count": null,
   "metadata": {},
   "outputs": [],
   "source": [
    "#\n",
    "# Python code of Task 7\n",
    "#\n",
    "def quarterCarAnimation():\n",
    "    global m, k, c, y_0, v, x, y, f, ax\n",
    "    m, k, c, y_0, v = quarterCarNumericalValues()\n",
    "    \n",
    "    t, y = quarterCarEuler()\n",
    "    \n",
    "    x=v * t\n",
    "    f, fp = quarterCarRoad(x)\n",
    "\n",
    "\n",
    "\n",
    "    fig = plt.figure()\n",
    "    fig.set_size_inches(20, 5)\n",
    "\n",
    "    ax = plt.gca()\n",
    "    ax.axis('equal')\n",
    "    ax.set_title('quarterCarAnimation')\n",
    "\n",
    " \n",
    "    return FuncAnimation(fig, quarterCarFrame, frames=np.arange(1, x.size))\n",
    "\n",
    "display(HTML(quarterCarAnimation().to_jshtml()))\n",
    "    \n",
    "# close figure\n",
    "plt.close(plt.gcf())"
   ]
  },
  {
   "cell_type": "markdown",
   "metadata": {},
   "source": [
    "## 5 Evaluation\n",
    "In the simulation of the quarter car, the differences between verification and validation can be clearly illustrated when evaluating a simulation.   \n",
    "During verification, we check whether the results of the calculations are in line with our theoretical model.\n",
    "The task of validation is to assess the extent to which this simulation allows conclusions to be drawn about the vehicle's driving dynamics."
   ]
  },
  {
   "cell_type": "markdown",
   "metadata": {},
   "source": [
    "### 5.1 Verification\n",
    "With simulations based on numerical solution methods, the question arises as to how reliable the numerical approximate values are.\n",
    "The accuracy of Euler's method depends mainly on the step size $h$.\n",
    "One needs small step sizes in order to solve the problem with a corresponding accuracy.\n",
    "On the other hand, small step sizes require considerably more steps and thus more calculation operations.\n",
    "This increases the computing time required to run a simulation.\n",
    "A further disadvantage of small step sizes is the rounding error problem.\n",
    "\n",
    "The trick is now to determine a step size optimally adapted to the problem.\n",
    "The determination of optimal step sizes is a central topic of numerical mathematics.\n",
    "However, this determination requires a deeper understanding of numerical approximation methods.\n",
    "We are therefore content with an experimental consideration.\n",
    "For a sinusoidal road profile, we have already implemented the calculation of the exact symbolic solution, see `quarterCarSolutionIVP()`.\n",
    "Thus we can compare the numerically calculated approximate values with the analytically determined exact solution for this road profile.\n",
    "\n",
    "The idea is to use SymPy as a code generator for the exact analytical solution.\n",
    "The function `quarterCarAnalytic()` should be implemented according to the function `quarterCarEuler()`.\n",
    "The step size $h$ is passed as input argument to the function.\n",
    "The function should return the time values $t$ and the values for the oszilation of the mass $y$."
   ]
  },
  {
   "cell_type": "markdown",
   "metadata": {},
   "source": [
    "<div class=\"alert alert-block alert-info\">\n",
    "    \n",
    "### Task 8: Code generation <font color=red>(2 points)</font>\n",
    "\n",
    "Use `sympy.lambdify()`, `quarterCarNumericalValues()` and `quarterCarSolutionIVP()` to implement the function `quarterCarAnalytic()`.\n",
    "</div>"
   ]
  },
  {
   "cell_type": "markdown",
   "metadata": {},
   "source": [
    "<div class=\"alert alert-block alert-success\">  \n",
    "<b>Solution of Task 8</b>\n",
    "    \n",
    "Implementation of 'quarterCarAnalytic()`:\n",
    "</div>"
   ]
  },
  {
   "cell_type": "code",
   "execution_count": null,
   "metadata": {},
   "outputs": [],
   "source": [
    "#\n",
    "# Python code of Task 8\n",
    "#\n",
    "def quarterCarAnalytic(h=0.01,t0=0.0,t1=1.0):\n",
    "    global m, k, c, y_0, v, A, omega\n",
    "    m, k, c, y_0, v = quarterCarNumericalValues()\n",
    "    A = 0.05\n",
    "    omega = 5.0\n",
    "    \n",
    "    t = sp.Symbol('t')\n",
    "    y = quarterCarSolutionIVP()\n",
    "        \n",
    "    lamb = sp.lambdify(t, y)\n",
    "\n",
    "    \n",
    "    return lamb(t0), lamb(t1)"
   ]
  },
  {
   "cell_type": "code",
   "execution_count": null,
   "metadata": {},
   "outputs": [],
   "source": [
    "#\n",
    "# Comparision of symbolical and numerical results\n",
    "#\n",
    "def quarterCarAnalyticTest():\n",
    "    t1, y1 = quarterCarAnalytic()\n",
    "    t2, y2 = quarterCarEuler()\n",
    "    plt.plot(t1,y1,'-b',t2,y2,'-r')\n",
    "    \n",
    "quarterCarAnalyticTest()    "
   ]
  },
  {
   "cell_type": "markdown",
   "metadata": {},
   "source": [
    "<div class=\"alert alert-block alert-info\">\n",
    "    \n",
    "### Task 9: Step size <font color=red>(1 point)</font>\n",
    "Use the functions `quarterCarEuler()` and `quarterCarAnalytic()` to determine the maximum deviation of the numerical approximate values from the exact analytical solution.\n",
    "For this purpose use the step sizes $h=0.01$, $h=0.001$ and $h=0.0001$. \n",
    "</div>"
   ]
  },
  {
   "cell_type": "markdown",
   "metadata": {},
   "source": [
    "<div class=\"alert alert-block alert-success\">  \n",
    "<b>Solution of Task 9</b>\n",
    "    \n",
    "Maximum deviation of the numerical approximate values from the exact analytical solution:\n",
    "</div>"
   ]
  },
  {
   "cell_type": "code",
   "execution_count": null,
   "metadata": {},
   "outputs": [],
   "source": [
    "#\n",
    "# Python code of Task 9\n",
    "#\n",
    "def quarterCarStepSize():\n",
    "    t, y_analytic = quarterCarAnalytic(0.1)\n",
    "    t, y_euler = quarterCarEuler(0.1)\n",
    "    y_dif = abs(y_analytic - y_euler)\n",
    "    \n",
    "    max_dif = max(y_dif)\n",
    "    print(f'Größter Unterschied für h={0.1} ist {max_dif}.')\n",
    "    \n",
    "    t, y_analytic = quarterCarAnalytic(0.01)\n",
    "    t, y_euler = quarterCarEuler(0.01)\n",
    "    y_dif = abs(y_analytic - y_euler)\n",
    "    \n",
    "    max_dif = max(y_dif)\n",
    "    print(f'Größter Unterschied für h={0.01} ist {max_dif}.')\n",
    "    \n",
    "    t, y_analytic = quarterCarAnalytic(0.001)\n",
    "    t, y_euler = quarterCarEuler(0.001)\n",
    "    y_dif = abs(y_analytic - y_euler)\n",
    "    \n",
    "    max_dif = max(y_dif)\n",
    "    print(f'Größter Unterschied für h={0.001} ist {max_dif}.')\n",
    "    \n",
    "    return\n",
    "        \n",
    "quarterCarStepSize()"
   ]
  },
  {
   "cell_type": "markdown",
   "metadata": {},
   "source": [
    "In simulations based on numerical solutions of differential equations, the calculations are often performed using Runge-Kutta methods.\n",
    "Compared to Euler's method, higher order Runge-Kutta methods produce more accurate results.\n",
    "In addition, Runge-Kutta methods offer good methods for error estimation and, based on these, mechanisms for automatic step size control."
   ]
  },
  {
   "cell_type": "markdown",
   "metadata": {},
   "source": [
    "### 5.2 Validation\n",
    "A further aspect in the evaluation is the question of whether the simulation actually provides usable results for vehicle dynamics.\n",
    "It should be kept in mind that the quarter car only provides a rough model, in which some important factors, such as the stiffness of the entire vehicle or the distribution of the mass to the individual wheels, are not taken into account."
   ]
  },
  {
   "cell_type": "markdown",
   "metadata": {},
   "source": [
    "## 6 Embedding\n",
    "It would be nice to have a graphical user interface for embedding the simulation.\n",
    "This user interface could offer a selection of different road profiles for selection and take over the configuration of the parameters of the quarter car.\n",
    "A graphical editor for creating different road profiles would be helpful.  "
   ]
  },
  {
   "cell_type": "code",
   "execution_count": null,
   "metadata": {},
   "outputs": [],
   "source": [
    "if 'google.colab' in str(get_ipython()):\n",
    "    print('IFrame() does not work with Google Colab')\n",
    "else:\n",
    "    display(IFrame('quarter_car_ramp.gif', width=720, height=180))"
   ]
  },
  {
   "cell_type": "markdown",
   "metadata": {},
   "source": [
    "<div class=\"alert alert-block alert-info\">\n",
    "    \n",
    "## Task 10: Ramp test track <font color=red>(2 points)</font>\n",
    "A test track with a ramp can be simulated by the function\n",
    "    \n",
    "$$\n",
    "    f(x) = \\left\\{\n",
    "    \\begin{array}{ccl}\n",
    "        0        & \\mbox{ for } & x \\leq 1,\\\\\n",
    "        0.2(x-1) & \\mbox{ for } & 1 < x \\leq 2,\\\\\n",
    "        0.2      & \\mbox{ for } & x > 2.\\\\\n",
    "    \\end{array}\n",
    "    \\right.\n",
    "$$\n",
    "    \n",
    "Reimplement the function `quarterCarRoad()` and generate an animation video of the quarter car on the test track with this ramp.\n",
    "</div>"
   ]
  },
  {
   "cell_type": "markdown",
   "metadata": {},
   "source": [
    "<div class=\"alert alert-block alert-success\">  \n",
    "<b>Solution of Task 10</b>\n",
    "    \n",
    "Reimplementation of the function `quarterCarRoad()` :\n",
    "</div>"
   ]
  },
  {
   "cell_type": "code",
   "execution_count": null,
   "metadata": {},
   "outputs": [],
   "source": [
    "#\n",
    "# Python code of Task 10\n",
    "#\n",
    "def quarterCarRoad(x):\n",
    "    if type(x) is np.ndarray:\n",
    "        f  = np.array([])\n",
    "        fp = np.array([])\n",
    "\n",
    "\n",
    "    else:\n",
    "        f  = 0.0\n",
    "        fp = 0.0\n",
    "        \n",
    "\n",
    "\n",
    "\n",
    "\n",
    "\n",
    "\n",
    "\n",
    "    return f, fp"
   ]
  },
  {
   "cell_type": "code",
   "execution_count": null,
   "metadata": {},
   "outputs": [],
   "source": [
    "#display(HTML(quarterCarAnimation().to_jshtml()))\n",
    "# close figure\n",
    "plt.close(plt.gcf())"
   ]
  },
  {
   "cell_type": "markdown",
   "metadata": {},
   "source": [
    "## Literature\n",
    " - [https://en.wikipedia.org/wiki/Vehicle_dynamics](https://en.wikipedia.org/wiki/Vehicle_dynamics)\n",
    " - [https://en.wikipedia.org/wiki/Euler_method](https://en.wikipedia.org/wiki/Euler_method)\n",
    " - [https://en.wikipedia.org/wiki/Runge-Kutta_methods](https://en.wikipedia.org/wiki/Runge-Kutta_methods)\n",
    " - [J.Koch, M.Stämpfle: Mathematik für das Ingenieurstudium](https://www.hanser-fachbuch.de/buch/Mathematik+fuer+das+Ingenieurstudium/9783446451667)"
   ]
  },
  {
   "cell_type": "code",
   "execution_count": null,
   "metadata": {},
   "outputs": [],
   "source": []
  }
 ],
 "metadata": {
  "kernelspec": {
   "display_name": "Python 3 (ipykernel)",
   "language": "python",
   "name": "python3"
  },
  "language_info": {
   "codemirror_mode": {
    "name": "ipython",
    "version": 3
   },
   "file_extension": ".py",
   "mimetype": "text/x-python",
   "name": "python",
   "nbconvert_exporter": "python",
   "pygments_lexer": "ipython3",
   "version": "3.9.7"
  }
 },
 "nbformat": 4,
 "nbformat_minor": 2
}
