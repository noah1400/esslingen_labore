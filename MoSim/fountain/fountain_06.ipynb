{
 "cells": [
  {
   "cell_type": "markdown",
   "metadata": {
    "toc": true
   },
   "source": [
    "<h1>Project fountain<span class=\"tocSkip\"></span></h1>\n",
    "<div class=\"toc\"><ul class=\"toc-item\"><li><span><a href=\"#Modelling\" data-toc-modified-id=\"Modelling-1\"><span class=\"toc-item-num\">1&nbsp;&nbsp;</span>Modelling</a></span></li><li><span><a href=\"#Numerical-treatment\" data-toc-modified-id=\"Numerical-treatment-2\"><span class=\"toc-item-num\">2&nbsp;&nbsp;</span>Numerical treatment</a></span><ul class=\"toc-item\"><li><span><a href=\"#Task-1:-Sketch-of-the-experiment-(2-points)\" data-toc-modified-id=\"Task-1:-Sketch-of-the-experiment-(2-points)-2.1\"><span class=\"toc-item-num\">2.1&nbsp;&nbsp;</span>Task 1: Sketch of the experiment <font color=\"red\">(2 points)</font></a></span></li><li><span><a href=\"#Torricelli's-law\" data-toc-modified-id=\"Torricelli's-law-2.2\"><span class=\"toc-item-num\">2.2&nbsp;&nbsp;</span>Torricelli's law</a></span></li><li><span><a href=\"#Task-2:-Torricelli's-law-(4-points)\" data-toc-modified-id=\"Task-2:-Torricelli's-law-(4-points)-2.3\"><span class=\"toc-item-num\">2.3&nbsp;&nbsp;</span>Task 2: Torricelli's law <font color=\"red\">(4 points)</font></a></span></li><li><span><a href=\"#Projectile-motion\" data-toc-modified-id=\"Projectile-motion-2.4\"><span class=\"toc-item-num\">2.4&nbsp;&nbsp;</span>Projectile motion</a></span></li><li><span><a href=\"#Task-3:-Projectile-motion-(2-points)\" data-toc-modified-id=\"Task-3:-Projectile-motion-(2-points)-2.5\"><span class=\"toc-item-num\">2.5&nbsp;&nbsp;</span>Task 3: Projectile motion <font color=\"red\">(2 points)</font></a></span></li></ul></li><li><span><a href=\"#Implementation\" data-toc-modified-id=\"Implementation-3\"><span class=\"toc-item-num\">3&nbsp;&nbsp;</span>Implementation</a></span><ul class=\"toc-item\"><li><span><a href=\"#Task-4:-Diagrams-(2-points)\" data-toc-modified-id=\"Task-4:-Diagrams-(2-points)-3.1\"><span class=\"toc-item-num\">3.1&nbsp;&nbsp;</span>Task 4: Diagrams <font color=\"red\">(2 points)</font></a></span></li></ul></li><li><span><a href=\"#Visualization\" data-toc-modified-id=\"Visualization-4\"><span class=\"toc-item-num\">4&nbsp;&nbsp;</span>Visualization</a></span><ul class=\"toc-item\"><li><span><a href=\"#Task-5:-Simulation-(4-points)\" data-toc-modified-id=\"Task-5:-Simulation-(4-points)-4.1\"><span class=\"toc-item-num\">4.1&nbsp;&nbsp;</span>Task 5: Simulation <font color=\"red\">(4 points)</font></a></span></li></ul></li><li><span><a href=\"#Evaluation\" data-toc-modified-id=\"Evaluation-5\"><span class=\"toc-item-num\">5&nbsp;&nbsp;</span>Evaluation</a></span><ul class=\"toc-item\"><li><span><a href=\"#Verification\" data-toc-modified-id=\"Verification-5.1\"><span class=\"toc-item-num\">5.1&nbsp;&nbsp;</span>Verification</a></span></li><li><span><a href=\"#Validation\" data-toc-modified-id=\"Validation-5.2\"><span class=\"toc-item-num\">5.2&nbsp;&nbsp;</span>Validation</a></span></li></ul></li><li><span><a href=\"#Embedding\" data-toc-modified-id=\"Embedding-6\"><span class=\"toc-item-num\">6&nbsp;&nbsp;</span>Embedding</a></span></li><li><span><a href=\"#Literature\" data-toc-modified-id=\"Literature-7\"><span class=\"toc-item-num\">7&nbsp;&nbsp;</span>Literature</a></span></li></ul></div>"
   ]
  },
  {
   "cell_type": "markdown",
   "metadata": {},
   "source": [
    "<div class=\"alert alert-block alert-danger\">\n",
    "\n",
    "<b>Team: 6</b>\n",
    "- Moritz Kübler, 767583\n",
    "- Emir Mahmutovic, 766200\n",
    "- Alessa Jakobs, 765716\n",
    "- Noah Scholz, 767535\n",
    "    \n",
    "<b>Result:</b>\n",
    "    \n",
    "| Task   |  1  |  2  |  3  |  4  |  5  |  Sum  |\n",
    "|--------|-----|-----|-----|-----|-----|-------|\n",
    "| Points | ?/2 | ?/4 | ?/2 | ?/2 | ?/4 | ??/14 |  \n",
    "\n",
    "    \n",
    "</div>"
   ]
  },
  {
   "cell_type": "markdown",
   "metadata": {},
   "source": [
    "# Modelling\n",
    "The flow behaviour of liquids and gases plays an important role in many physical and technical processes.\n",
    "The laws of motion of fluids are the subject of so-called fluid mechanics.\n",
    "Fluid mechanics is applied in mechanical engineering, automotive engineering, energy industry and medicine.    \n",
    "\n",
    "In this project we consider a simple example where water flows from a cylindrical bottle through a sloped outlet tube into a collecting basin.\n",
    "The experimental setup is shown in the following video:"
   ]
  },
  {
   "cell_type": "code",
   "execution_count": null,
   "metadata": {
    "scrolled": true
   },
   "outputs": [],
   "source": [
    "from IPython.display import YouTubeVideo\n",
    "YouTubeVideo('WHUYBpPonIo')"
   ]
  },
  {
   "cell_type": "markdown",
   "metadata": {},
   "source": [
    "# Numerical treatment\n",
    "In order to prepare the model, all quantities required to describe the setup of the experiment are determined.\n",
    "\n",
    "Inner diameter of the bottle:\n",
    "$$\n",
    "    d_\\mbox{ bottle} \\approx 80 \\mbox{ mm} \\, .\n",
    "$$\n",
    "\n",
    "Initial height of the water in the bottle and height of the water kept in the bottle:\n",
    "$$\n",
    "    h_\\mbox{ init} \\approx 140 \\mbox{ mm}, \\quad\n",
    "    h_\\mbox{ rest} \\approx 40 \\mbox{ mm} \\, .\n",
    "$$\n",
    "\n",
    "Inner diameter of the tube and elevation angle of the tube with respect to a horizontal line:\n",
    "$$\n",
    "    d_\\mbox{ tube} \\approx 8 \\mbox{ mm}, \\quad\n",
    "    \\alpha_\\mbox{ tube} \\approx 20^0 \\, .\n",
    "$$\n",
    "\n",
    "Length, width and height of the basin\n",
    "$$\n",
    "    l_\\mbox{ basin} \\approx 210 \\mbox{ mm}, \\quad\n",
    "    w_\\mbox{ basin} \\approx 100 \\mbox{ mm}, \\quad\n",
    "    h_\\mbox{ basin} \\approx 70 \\mbox{ mm} \\, .\n",
    "$$\n"
   ]
  },
  {
   "cell_type": "code",
   "execution_count": null,
   "metadata": {},
   "outputs": [],
   "source": [
    "import numpy as np\n",
    "d_bottle = 0.08\n",
    "h_init = 0.14\n",
    "h_rest = 0.04\n",
    "d_tube = 0.008\n",
    "alpha_tube = 20.0/180.0*np.pi\n",
    "l_basin = 0.21\n",
    "w_basin = 0.1\n",
    "h_basin = 0.07"
   ]
  },
  {
   "cell_type": "markdown",
   "metadata": {},
   "source": [
    "<div class=\"alert alert-block alert-info\">\n",
    "    \n",
    "## Task 1: Sketch of the experiment <font color=red>(2 points)</font>\n",
    "Create a sketch to describe the setup of the experiment.\n",
    "Specify the origin and the directions of the coordinate system appropriately.\n",
    "</div>"
   ]
  },
  {
   "cell_type": "markdown",
   "metadata": {},
   "source": [
    "<div class=\"alert alert-block alert-success\">  \n",
    "<b>Solution of Task 1</b>\n",
    "\n",
    "    \n",
    "</div>"
   ]
  },
  {
   "cell_type": "markdown",
   "metadata": {},
   "source": [
    "<img src=\"Skizze.png\" width=600, height=600>"
   ]
  },
  {
   "cell_type": "markdown",
   "metadata": {},
   "source": [
    "There are two different aspects to be considered in our experiment.\n",
    "First, we have to think about the outflow speed from the tube as a function of time.\n",
    "In the second step we investigate how the outflow speed from the tube affects the shape of the water jet."
   ]
  },
  {
   "cell_type": "markdown",
   "metadata": {},
   "source": [
    "## Torricelli's law\n",
    "Laws governing the outflow of liquids from a water reservoir have been known since the 17th century.\n",
    "Essential findings go back to the Italian physicist and mathematician Evangelista Torricelli.\n",
    "Torricelli recognised that the outflow of liquids from a water reservoir follows similar laws as the free fall of a body under the influence of gravity, see [Torricelli's_law](https://en.wikipedia.org/wiki/Torricelli%27s_law).\n",
    "\n",
    "To be more precise we consider a water drop of mass $m$.\n",
    "The potential energy of a water drop falling down by a height $h$ at time $t$ is\n",
    "\n",
    "$$\n",
    "    E_\\mbox{ pot} = m \\, g_\\mbox{ earth} \\, h(t) \\, .\n",
    "$$\n",
    "\n",
    "Here $g_\\mbox{ earth} \\approx 9.81$ denotes the gravity of earth.\n",
    "The kinetic energy of a water drop leaving the tube with speed $v_\\mbox{ tube}$ at time $t$ is\n",
    "\n",
    "$$\n",
    "    E_\\mbox{ kin} = \\frac{1}{2} \\, m \\, v^2_\\mbox{ tube}(t) \\, .\n",
    "$$\n",
    "\n",
    "Equating the kinetic energy with the potential energy results in\n",
    "\n",
    "$$\n",
    "    m \\, g_\\mbox{ earth} \\, h(t) = \\frac{1}{2} \\, m \\, v^2_\\mbox{ tube}(t)\n",
    "    \\quad \\Longrightarrow \\quad\n",
    "    v_\\mbox{ tube} (t) = \\sqrt{2 \\, g_\\mbox{ earth} \\, h(t)} \\, .\n",
    "    \\quad \\quad \\quad (*)\n",
    "$$\n",
    "\n",
    "Due to conservation of mass, the volume of water reducing the height in the bottle must correspond to the volume of water leaving the tube at any time:\n",
    "\n",
    "$$\n",
    "    - A_\\mbox{ bottle} \\, \\dot{h}(t) = A_\\mbox{ tube} \\, v_\\mbox{ tube} (t) \\, .\n",
    "    \\quad \\quad \\quad (**)\n",
    "$$\n",
    "\n",
    "Here $A_\\mbox{ bottle}$ and $A_\\mbox{ tube}$ denote the areas of cross sections of the bottle and the tube:\n",
    "\n",
    "$$\n",
    "    A_\\mbox{ bottle} = \\pi \\left( \\frac{d_\\mbox{ bottle}}{2} \\right)^2,\n",
    "    \\quad \\quad \\quad\n",
    "    A_\\mbox{ tube} = \\pi \\left( \\frac{d_\\mbox{ tube}}{2} \\right)^2 \\, .\n",
    "$$\n",
    "\n",
    "It is important to note, that since the height $h$ is decreasing, the variation of height $\\dot{h}(t)$ is negative.\n",
    "\n",
    "Using both equations $(*)$ and $(**)$ yields a non linear differential equation for $h(t)$ which can be solved by separation:\n",
    "    \n",
    "$$\n",
    "    \\dot{h}(t) = - \\underbrace{\\frac{d^2_\\mbox{ tube}}{d^2_\\mbox{ bottle}} \\, \\sqrt{2 \\, g_\\mbox{ earth} }}_{\\displaystyle C} \\, \\sqrt{h(t)}\n",
    "    \\quad \\Longrightarrow \\quad\n",
    "    \\dot{h}(t) = - C \\, \\sqrt{h(t)} \\, .\n",
    "$$"
   ]
  },
  {
   "cell_type": "markdown",
   "metadata": {},
   "source": [
    "<div class=\"alert alert-block alert-info\">\n",
    "    \n",
    "## Task 2: Torricelli's law <font color=red>(4 points)</font>\n",
    "Derive formulas for the height of the water level in the bottle and for the outflow speed from the tube as a function of time.\n",
    "Derive a formula for the time it takes the liquid to flow out.\n",
    "</div>"
   ]
  },
  {
   "cell_type": "markdown",
   "metadata": {},
   "source": [
    "<div class=\"alert alert-block alert-success\">  \n",
    "<b>Solution of Task 2</b>\n",
    "    \n",
    "</div>"
   ]
  },
  {
   "cell_type": "markdown",
   "metadata": {},
   "source": [
    "Formula for the height with respect to the time\n",
    "$$\n",
    "    h(t) = \\left( \\frac{-Ct + C1}{2} \\right)^2\n",
    "$$\n",
    "\n",
    "Formula for the outflow speed \n",
    "$$\n",
    "    v_\\mbox{ tube} (t) = \\sqrt{2 \\, g_\\mbox{ earth} \\, h(t)} \\,\n",
    "$$\n",
    "\n",
    "Calculation of the constant $C1$ with initial value h(0) = 0,14m\n",
    "$$\n",
    "    h(0) = \\left( \\frac{C1}{2} \\right)^2\n",
    "    = 0,14m\n",
    "    \\quad \\Longrightarrow \\quad\n",
    "    \\pm{\\sqrt{0,14}} = \\frac{C1}{2} \n",
    "    \\quad \\Longrightarrow \\quad\n",
    "    C1 = \\pm{2}\\sqrt{0,14}\n",
    "$$\n",
    " \n",
    "</br>  \n",
    "</br>  \n",
    "$$\n",
    "       t(h) = \\frac{2\\sqrt{h}-C1}{-C}\n",
    "$$\n",
    "\n",
    "Formula for the time the water needs to flow out\n",
    "$$\n",
    "    t_\\mbox{ out}(h_\\mbox{ end}, h_\\mbox{ start}) = \\frac{2*\\sqrt{h_\\mbox{ end}}-2*\\sqrt{h_\\mbox{ start}}-2*C_\\mbox{ 3}}{-C}\n",
    "$$\n"
   ]
  },
  {
   "cell_type": "markdown",
   "metadata": {},
   "source": [
    "## Projectile motion\n",
    "The water jet is in the form of parabolic trajectory.\n",
    "The shape of the parabola depends on the outflow speed from the pipe and thus on the height of the water level in the bottle, see [Projectile motion](https://en.wikipedia.org/wiki/Projectile_motion)."
   ]
  },
  {
   "cell_type": "markdown",
   "metadata": {},
   "source": [
    "<div class=\"alert alert-block alert-info\">\n",
    "    \n",
    "## Task 3: Projectile motion <font color=red>(2 points)</font>\n",
    "Derive a mathematical formula for the water jet at time $t$ in the form of a parabola:\n",
    "\n",
    "$$\n",
    "    y(x) = a_2(t) \\, x^2 + a_1(t) \\, x + a_0(t) \\, .\n",
    "$$\n",
    "    \n",
    "</div>"
   ]
  },
  {
   "cell_type": "markdown",
   "metadata": {},
   "source": [
    "<div class=\"alert alert-block alert-success\">  \n",
    "<b>Solution of Task 3</b>\n",
    "\n",
    "</div>"
   ]
  },
  {
   "cell_type": "markdown",
   "metadata": {},
   "source": [
    "# Implementation\n",
    "All formulas can be represented exactly in an analytically manner.\n",
    "Therefore there is no need for numerical approximation methods for the simulation. "
   ]
  },
  {
   "cell_type": "markdown",
   "metadata": {},
   "source": [
    "<div class=\"alert alert-block alert-info\">\n",
    "    \n",
    "## Task 4: Diagrams <font color=red>(2 points)</font>\n",
    "Create diagrams for the height of the water level in the bottle and the outflow velocity from the pipe according to time.\n",
    "    \n",
    "</div>"
   ]
  },
  {
   "cell_type": "markdown",
   "metadata": {},
   "source": [
    "<div class=\"alert alert-block alert-success\">  \n",
    "<b>Solution of Task 4</b>\n",
    "\n",
    "</div>"
   ]
  },
  {
   "cell_type": "code",
   "execution_count": null,
   "metadata": {},
   "outputs": [],
   "source": [
    "import matplotlib.pyplot as plt\n",
    "\n",
    "g_earth = 9.81\n",
    "\n",
    "C = (d_tube**2 / d_bottle**2) * np.sqrt(2 * g_earth)\n",
    "C_3 = np.sqrt(0.14)*2\n",
    "\n",
    "\n",
    "t_out = (2 * np.sqrt(h_rest)-2 * np.sqrt(h_init))/(-C)\n",
    "time = np.linspace(0, t_out)\n",
    "height = (((-C) * time + C_3) / 2)**2\n",
    "speed = np.sqrt(2 * g_earth * height)\n",
    "    \n",
    "fig1 = plt.figure(1)\n",
    "plt.plot(time, height)\n",
    "    \n",
    "fig2 = plt.figure(2)\n",
    "plt.plot(time, speed)\n",
    "    \n",
    "plt.show()\n",
    "    \n"
   ]
  },
  {
   "cell_type": "markdown",
   "metadata": {},
   "source": [
    "# Visualization\n",
    "With the help of the formulas from the previous tasks, the complete process can be simulated and visualized.\n",
    "For this purpose, the time required for the water to run out of the bottle is passed through in time intervals of constant length.     "
   ]
  },
  {
   "cell_type": "markdown",
   "metadata": {},
   "source": [
    "<div class=\"alert alert-block alert-info\">\n",
    "    \n",
    "## Task 5: Simulation <font color=red>(4 points)</font>\n",
    "Simulate and visualize the experiment.\n",
    "    \n",
    "</div>"
   ]
  },
  {
   "cell_type": "markdown",
   "metadata": {},
   "source": [
    "<div class=\"alert alert-block alert-success\">  \n",
    "<b>Solution of Task 5</b>\n",
    "\n",
    "</div>"
   ]
  },
  {
   "cell_type": "code",
   "execution_count": null,
   "metadata": {},
   "outputs": [],
   "source": [
    "from matplotlib.animation import FuncAnimation\n",
    "from IPython.display import HTML, Image, IFrame, YouTubeVideo\n",
    "\n",
    "C_b = (d_tube**2/(l_basin * w_basin)**2) * np.sqrt(2 * g_earth)\n",
    "C3_b = 0.0\n",
    "\n",
    "def init():\n",
    "    global water, tubeOutflow\n",
    "    fig = plt.gcf()\n",
    "    ax = fig.gca()\n",
    "    ax.get_xaxis().set_visible(False)\n",
    "    ax.get_yaxis().set_visible(False)\n",
    "    ax.set_aspect('equal')\n",
    "    ax.set_xlim(-0.1, d_bottle + l_basin + 0.1)\n",
    "    ax.set_ylim(-0.05, h_basin + h_init + 0.1)\n",
    "    \n",
    "    #baseline\n",
    "    baseline_x = np.array([-0.05, d_bottle + l_basin + 0.051])\n",
    "    baseline_y = np.array([0.0, 0.0])\n",
    "    ax.plot(baseline_x,baseline_y, '-k')\n",
    "    \n",
    "    #platform\n",
    "    platform_x = np.array([0.0, 0.01, d_bottle - 0.01, d_bottle])\n",
    "    platform_y = np.array([0.0, h_basin, h_basin, 0.0])\n",
    "    ax.plot(platform_x,platform_y, '-k')\n",
    "    \n",
    "    #bottle\n",
    "    bottle_x = np.array([0.0, 0.0, d_bottle, d_bottle])\n",
    "    bottle_y = np.array([h_init + 0.1, h_basin, h_basin, h_init + 0.1])\n",
    "    ax.plot(bottle_x, bottle_y, color=\"grey\")\n",
    "    \n",
    "    #water\n",
    "    water, = ax.plot([], [], color=\"lightblue\")\n",
    "    water2, = ax.plot([], [], color=\"lightblue\")\n",
    "    \n",
    "    #tube outflow\n",
    "    tubeOutflow, = ax.plot([], [], color=\"lightblue\")\n",
    "    \n",
    "    #tube\n",
    "    tube1_x_start = d_bottle/2+0.01\n",
    "    tube1_y_start = h_basin+0.01\n",
    "    tube1_x_end = tube1_x_start + d_bottle/1.5 * np.cos(alpha_tube)\n",
    "    tube1_y_end = tube1_y_start + d_bottle/1.5 * np.sin(alpha_tube)\n",
    "    tube2_x_start = tube1_x_start\n",
    "    tube2_y_start = tube1_y_start + d_tube\n",
    "    tube2_x_end = tube2_x_start + d_bottle/1.5 * np.cos(alpha_tube)\n",
    "    tube2_y_end = tube2_y_start + d_bottle/1.5 * np.sin(alpha_tube)\n",
    "    ax.plot([tube1_x_start,tube1_x_end], [tube1_y_start,tube1_y_end], color=\"black\")\n",
    "    ax.plot([tube2_x_start,tube2_x_end], [tube2_y_start,tube2_y_end], color=\"black\")\n",
    "    \n",
    "    #basin\n",
    "    basin_x = np.array([d_bottle + 0.01, d_bottle + 0.01, d_bottle + 0.01 + l_basin,d_bottle + 0.01 + l_basin])\n",
    "    basin_y = np.array([h_basin, 0.0, 0.0, h_basin])\n",
    "    ax.plot(basin_x, basin_y, color=\"grey\")\n",
    "    \n",
    "    return\n",
    "\n",
    "\n",
    "def frame(o):\n",
    "    fig = plt.gcf()\n",
    "    ax = fig.gca()\n",
    "    ax.collections.clear()\n",
    "    ax.fill_between([0.0, d_bottle], [height[o] + h_basin, height[o] + h_basin], [h_basin, h_basin] ,facecolor=\"lightblue\")\n",
    "    ax.fill_between([d_bottle + 0.01, d_bottle + 0.01 + l_basin], [height_b[o], height_b[o]], [0.0, 0.0],facecolor=\"lightblue\")\n",
    "    \n",
    "    #parabel\n",
    "    x_outflow = np.linspace(x_tube, W[o], len(t))\n",
    "    y_outflow = y_tube-0.01 + np.tan(alpha_tube) * x_outflow - (g_earth/(2 * v**2 * np.cos(alpha_tube)**2) * x_outflow**2)\n",
    "    tubeOutflow.set_data(x_outflow, y_outflow)\n",
    "    \n",
    "\n",
    "global height, height_b, speed, t, W, x_tube, y_tube, x, v\n",
    "t_out = (2 * np.sqrt(h_rest) - 2 * np.sqrt(h_init))/(-C)\n",
    "t = np.linspace(0, t_out)\n",
    "height = (((-C) * t + C_3) / 2)**2\n",
    "height_b = (((-C_b) * t + C3_b) / 22)**2\n",
    "speed = np.sqrt(2 * g_earth * height)\n",
    "\n",
    "#parabel\n",
    "x_tube = d_bottle/2 + 0.01 + d_bottle/1.5 * np.cos(alpha_tube)\n",
    "y_tube = h_basin + 0.01 + d_bottle/1.5 * np.sin(alpha_tube)\n",
    "v = np.sqrt(2 * g_earth * height)\n",
    "W = (v * np.cos(alpha_tube))/g_earth * (v * np.sin(alpha_tube) + np.sqrt((v * np.sin(alpha_tube))**2 + 2 * g_earth * y_tube))\n",
    "\n",
    "x = v * t * np.cos(alpha_tube)\n",
    "\n",
    "fig = plt.figure(figsize=(4,4),dpi=144)\n",
    "func = FuncAnimation(fig, func=frame, init_func=init, frames=np.arange(0, len(t)))\n",
    "display(HTML(func.to_jshtml()))\n",
    "plt.close(fig)"
   ]
  },
  {
   "cell_type": "markdown",
   "metadata": {},
   "source": [
    "# Evaluation"
   ]
  },
  {
   "cell_type": "markdown",
   "metadata": {},
   "source": [
    "## Verification\n",
    "Since we did not use numerical approximation methods for the entire simulation, we have no problems with verification."
   ]
  },
  {
   "cell_type": "markdown",
   "metadata": {},
   "source": [
    "## Validation\n",
    "When comparing the simulation with the experiment, one will notice that the theoretically determined time the liquid needs to run out is significantly shorter than the experimentally determined time.\n",
    "Furthermore, the throwing distance of the parabola is larger in the simulation than in the experiment.\n",
    "Both effects are due to the fact that the water jet narrows to about $65\\%$ at some distance from the outflow of the tube.\n",
    "Therefore the theoretical outflow quantity is multiplied by a coefficient of discharge of $\\mu \\approx 0.65$.\n",
    "In our simulation we can take this into account with:\n",
    "\n",
    "$$\n",
    "    v_\\mbox{ tube}^\\mbox{ real} (t) = \\mu \\, v_\\mbox{ tube} (t)\n",
    "    \\quad \\Longrightarrow \\quad\n",
    "    - A_\\mbox{ bottle} \\, \\dot{h}(t) = A_\\mbox{ tube} \\, \\mu \\, v_\\mbox{ tube} (t)\n",
    "    \\quad \\Longrightarrow \\quad\n",
    "    C = \\mu \\, \\frac{d^2_\\mbox{ tube}}{d^2_\\mbox{ bottle}} \\, \\sqrt{2 \\, g_\\mbox{ earth} } \\, .\n",
    "$$"
   ]
  },
  {
   "cell_type": "markdown",
   "metadata": {},
   "source": [
    "# Embedding\n",
    "The simulation of the flow behaviour of ater is used, for example, in hydroelectric power plants. "
   ]
  },
  {
   "cell_type": "markdown",
   "metadata": {},
   "source": [
    "# Literature\n",
    " - [https://en.wikipedia.org/wiki/Torricelli's_law](https://en.wikipedia.org/wiki/Torricelli%27s_law)\n",
    " - [https://en.wikipedia.org/wiki/Projectile_motion](https://en.wikipedia.org/wiki/Projectile_motion)\n",
    " - [J.Koch, M.Stämpfle: Mathematik für das Ingenieurstudium](https://www.hanser-fachbuch.de/buch/Mathematik+fuer+das+Ingenieurstudium/9783446451667)"
   ]
  }
 ],
 "metadata": {
  "kernelspec": {
   "display_name": "Python 3 (ipykernel)",
   "language": "python",
   "name": "python3"
  },
  "language_info": {
   "codemirror_mode": {
    "name": "ipython",
    "version": 3
   },
   "file_extension": ".py",
   "mimetype": "text/x-python",
   "name": "python",
   "nbconvert_exporter": "python",
   "pygments_lexer": "ipython3",
   "version": "3.9.7"
  },
  "toc": {
   "base_numbering": 1,
   "nav_menu": {},
   "number_sections": true,
   "sideBar": true,
   "skip_h1_title": false,
   "title_cell": "Project fountain",
   "title_sidebar": "Project fountain",
   "toc_cell": true,
   "toc_position": {
    "height": "570.4px",
    "left": "308px",
    "top": "110.383px",
    "width": "343.167px"
   },
   "toc_section_display": true,
   "toc_window_display": false
  }
 },
 "nbformat": 4,
 "nbformat_minor": 2
}
